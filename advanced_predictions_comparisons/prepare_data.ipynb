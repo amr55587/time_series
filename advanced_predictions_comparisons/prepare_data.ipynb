{
 "cells": [
  {
   "cell_type": "code",
   "execution_count": 1,
   "id": "acf4a70d",
   "metadata": {},
   "outputs": [],
   "source": [
    "from google.cloud import bigquery\n",
    "import csv\n",
    "import pandas as pd\n",
    "from datetime import date,datetime\n",
    "import io\n",
    "import gcsfs\n",
    "import os\n",
    "import boto3\n",
    "import matplotlib.pyplot as plt\n",
    "import seaborn as sns"
   ]
  },
  {
   "cell_type": "code",
   "execution_count": 2,
   "id": "ef59362b",
   "metadata": {},
   "outputs": [],
   "source": [
    "plt.style.use(\"fivethirtyeight\")\n",
    "\n",
    "os.environ['GOOGLE_APPLICATION_CREDENTIALS'] = 'C:/cloud/integration-gcp-c828c815-6c5a918e4371.json'\n",
    "bqclient = bigquery.Client()\n",
    "\n",
    "query_string = \"\"\"\n",
    "SELECT\n",
    "checkpoint,count(distinct player_id) as count_players\n",
    "FROM `vxp-looker-8c0a3516.PW_staging.player_checkpoint_live`\n",
    "where VXP_client_id=1 \n",
    "group by checkpoint\n",
    "\"\"\"\n",
    "\n",
    "PL_events= (\n",
    "    bqclient.query(query_string)\n",
    "    .result()\n",
    "    .to_dataframe(\n",
    "        # Optionally, explicitly request to use the BigQuery Storage API. As of\n",
    "        # google-cloud-bigquery version 1.26.0 and above, the BigQuery Storage\n",
    "        # API is used by default.\n",
    "        create_bqstorage_client=True,\n",
    "    )\n",
    ")\n",
    "\n",
    "# PL_events[\"date\"]=pd.to_datetime(PL_events['checkpoint'])\n",
    "# PL_events=PL_events.set_index('date').sort_index()\n",
    "# PL_events=PL_events[:-1]"
   ]
  },
  {
   "cell_type": "code",
   "execution_count": null,
   "id": "a5c5429c",
   "metadata": {},
   "outputs": [],
   "source": []
  }
 ],
 "metadata": {
  "kernelspec": {
   "display_name": "Python 3 (ipykernel)",
   "language": "python",
   "name": "python3"
  },
  "language_info": {
   "codemirror_mode": {
    "name": "ipython",
    "version": 3
   },
   "file_extension": ".py",
   "mimetype": "text/x-python",
   "name": "python",
   "nbconvert_exporter": "python",
   "pygments_lexer": "ipython3",
   "version": "3.9.7"
  }
 },
 "nbformat": 4,
 "nbformat_minor": 5
}
