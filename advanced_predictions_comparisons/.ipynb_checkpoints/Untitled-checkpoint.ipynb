{
 "cells": [
  {
   "cell_type": "code",
   "execution_count": 7,
   "id": "5accbda4",
   "metadata": {},
   "outputs": [],
   "source": [
    "from google.cloud import bigquery\n",
    "import os"
   ]
  },
  {
   "cell_type": "code",
   "execution_count": 8,
   "id": "08edb0a4",
   "metadata": {},
   "outputs": [],
   "source": [
    "os.environ['GOOGLE_APPLICATION_CREDENTIALS'] = 'C:/cloud/gcs_service_account.json'\n",
    "bqclient = bigquery.Client()"
   ]
  },
  {
   "cell_type": "code",
   "execution_count": null,
   "id": "54126c8e",
   "metadata": {},
   "outputs": [],
   "source": [
    "'''\n",
    "def initialize_model_db():    \n",
    "    model_db_columns=[\"model_id\",\"model_train_starttime\",\"model_train_endtime\",\"model_test_starttime\",\"model_test_endtime\",\n",
    "            \"training_type\",\"model_training_day\",\"model_train_MAE\",\"model_test_MAE\"]\n",
    "    return pd.DataFrame([],columns=model_db_columns)\n",
    "    \n",
    "    \n",
    "def initialize_forecast_db():\n",
    "    forecast_columns=[\"ds\",\"yhat\",\"yhat_lower\",\"yhat_upper\",\"model_id\"]\n",
    "    return pd.DataFrame([],columns=forecast_columns)\n",
    "    \n",
    "\n",
    "\n",
    "'''"
   ]
  },
  {
   "cell_type": "code",
   "execution_count": 25,
   "id": "c6a146f2",
   "metadata": {},
   "outputs": [
    {
     "name": "stdout",
     "output_type": "stream",
     "text": [
      "predictions_DAU\n"
     ]
    }
   ],
   "source": [
    "project_id=\"project1-327507\"\n",
    "\n",
    "dataset=\"forecasts\"\n",
    "\n",
    "\n",
    "Parameters= {\"vxp_client_id\": 1 , \n",
    "             \"metric\":\"DAU\",\n",
    "            \"game\":'All',\n",
    "            \"platform\" : 'All'}\n",
    "\n",
    "destination_table=f\"predictions_{Parameters['metric']}\"\n",
    "print(destination_table)"
   ]
  },
  {
   "cell_type": "code",
   "execution_count": 26,
   "id": "729c02b6",
   "metadata": {},
   "outputs": [],
   "source": [
    "''' model_output_data={'model_id':[self.model_id] ,\n",
    "                           'model_train_starttime':[self.modeltrain_startime],\n",
    "                           'model_train_endtime':[self.modeltrain_endtime],\n",
    "                          'model_test_starttime':[self.modeltest_starttime],\n",
    "                           'model_test_endtime':[self.modeltest_endtime],\n",
    "                          'training_type':['fit'],\n",
    "                          'model_training_day':[datetime.now().strftime('%d-%m-%Y')],\n",
    "                           'model_train_MAE':self.train_MAE,\n",
    "                           'model_test_MAE':self.test_MAE ,\n",
    "                           'path':$$GCS_path,\n",
    "                           \n",
    "                           \n",
    "                           \n",
    "                           'vxp_client_id':vxp_client_id,\n",
    "                           'metric':'DAU'\n",
    "                           \n",
    "                           \n",
    "                           \n",
    "                           \n",
    "                          }'''\n",
    "\n",
    "\n",
    "def check_model_db(Parameters):\n",
    "    try :\n",
    "        query_string=f\"\"\"\n",
    "        SELECT\n",
    "        *\n",
    "        FROM `{project_id}.{dataset}.{destination_table}` \n",
    "        where \n",
    "        vxp_client_id={Parameters['vxp_client_id']} \n",
    "        order by model_training_day desc limit 1 \"\"\"\n",
    "        print(query_string)\n",
    "        model_df = (\n",
    "        bqclient.query(query_string)\n",
    "        .result()\n",
    "        .to_dataframe(\n",
    "            # Optionally, explicitly request to use the BigQuery Storage API. As of\n",
    "            # google-cloud-bigquery version 1.26.0 and above, the BigQuery Storage\n",
    "            # API is used by default.\n",
    "            create_bqstorage_client=True,\n",
    "                    )\n",
    "                )\n",
    "        \n",
    "        return model_df\n",
    "    except :\n",
    "        return None\n",
    "\n",
    "def write_model_db(model_output_data,parameters,):\n",
    "    model_output_data.update(parameters)\n",
    "\n",
    "    \n",
    "    pandas_gbq.to_gbq(dataframe=pd.DataFrame(model_output_data),\n",
    "                  destination_table=destination_table ,\n",
    "                  project_id=project_id,\n",
    "                  if_exists='append')"
   ]
  },
  {
   "cell_type": "code",
   "execution_count": 27,
   "id": "33f28b78",
   "metadata": {},
   "outputs": [
    {
     "name": "stdout",
     "output_type": "stream",
     "text": [
      "\n",
      "        SELECT\n",
      "        *\n",
      "        FROM `project1-327507.forecasts.predictions_DAU` \n",
      "        where \n",
      "        vxp_client_id=1 \n",
      "        order by model_training_day desc limit 1 \n"
     ]
    }
   ],
   "source": [
    "check_model_db(Parameters)"
   ]
  },
  {
   "cell_type": "code",
   "execution_count": null,
   "id": "4db6691d",
   "metadata": {},
   "outputs": [],
   "source": [
    "def check_forecast_db():"
   ]
  },
  {
   "cell_type": "code",
   "execution_count": null,
   "id": "8d85a3ab",
   "metadata": {},
   "outputs": [],
   "source": []
  },
  {
   "cell_type": "markdown",
   "id": "dada08f0",
   "metadata": {},
   "source": [
    "# WorkSpace"
   ]
  },
  {
   "cell_type": "code",
   "execution_count": 19,
   "id": "96e44bc9",
   "metadata": {},
   "outputs": [
    {
     "data": {
      "text/plain": [
       "{'vxp_client_id': 1, 'metric': 'DAU', 'game': 'All', 'platform': 'All'}"
      ]
     },
     "execution_count": 19,
     "metadata": {},
     "output_type": "execute_result"
    }
   ],
   "source": [
    "Parameters"
   ]
  },
  {
   "cell_type": "code",
   "execution_count": 20,
   "id": "610bc172",
   "metadata": {},
   "outputs": [],
   "source": [
    "dictionary={\"A\":'a',\"B\":'b'}"
   ]
  },
  {
   "cell_type": "code",
   "execution_count": 22,
   "id": "45381f6d",
   "metadata": {},
   "outputs": [
    {
     "name": "stdout",
     "output_type": "stream",
     "text": [
      "{'A': 'a', 'B': 'b', 'vxp_client_id': 1, 'metric': 'DAU', 'game': 'All', 'platform': 'All'}\n"
     ]
    }
   ],
   "source": [
    "dictionary.update(Parameters)\n",
    "print(dictionary)"
   ]
  },
  {
   "cell_type": "code",
   "execution_count": 15,
   "id": "de43c6b9",
   "metadata": {},
   "outputs": [
    {
     "name": "stdout",
     "output_type": "stream",
     "text": [
      "\n",
      "    SELECT\n",
      "    *\n",
      "    FROM `project1-327507.forecasts.predictions_DAU` \n",
      "    where \n",
      "    vxp_client_id=1\n"
     ]
    }
   ],
   "source": [
    "query_string=f\"\"\"\n",
    "    SELECT\n",
    "    *\n",
    "    FROM `{project_id}.{dataset}.predictions_{Parameters['metric']}` \n",
    "    where \n",
    "    vxp_client_id={Parameters['vxp_client_id']}\"\"\"\n",
    "\n",
    "print(query_string)"
   ]
  },
  {
   "cell_type": "code",
   "execution_count": 10,
   "id": "f242fc02",
   "metadata": {},
   "outputs": [],
   "source": [
    "query_string = f\"\"\"\n",
    "SELECT\n",
    "date\n",
    "FROM `project1-327507.Game1.{Parameters['metric']}` \"\"\""
   ]
  },
  {
   "cell_type": "code",
   "execution_count": 11,
   "id": "688a46c3",
   "metadata": {},
   "outputs": [
    {
     "name": "stdout",
     "output_type": "stream",
     "text": [
      "\n",
      "SELECT\n",
      "date\n",
      "FROM `project1-327507.Game1.DAU` \n"
     ]
    }
   ],
   "source": [
    "print(query_string)"
   ]
  },
  {
   "cell_type": "code",
   "execution_count": 6,
   "id": "07a4161d",
   "metadata": {},
   "outputs": [
    {
     "data": {
      "text/html": [
       "<div>\n",
       "<style scoped>\n",
       "    .dataframe tbody tr th:only-of-type {\n",
       "        vertical-align: middle;\n",
       "    }\n",
       "\n",
       "    .dataframe tbody tr th {\n",
       "        vertical-align: top;\n",
       "    }\n",
       "\n",
       "    .dataframe thead th {\n",
       "        text-align: right;\n",
       "    }\n",
       "</style>\n",
       "<table border=\"1\" class=\"dataframe\">\n",
       "  <thead>\n",
       "    <tr style=\"text-align: right;\">\n",
       "      <th></th>\n",
       "      <th>date</th>\n",
       "    </tr>\n",
       "  </thead>\n",
       "  <tbody>\n",
       "    <tr>\n",
       "      <th>0</th>\n",
       "      <td>date</td>\n",
       "    </tr>\n",
       "    <tr>\n",
       "      <th>1</th>\n",
       "      <td>1/1/2015</td>\n",
       "    </tr>\n",
       "    <tr>\n",
       "      <th>2</th>\n",
       "      <td>1/2/2015</td>\n",
       "    </tr>\n",
       "    <tr>\n",
       "      <th>3</th>\n",
       "      <td>1/3/2015</td>\n",
       "    </tr>\n",
       "    <tr>\n",
       "      <th>4</th>\n",
       "      <td>1/4/2015</td>\n",
       "    </tr>\n",
       "  </tbody>\n",
       "</table>\n",
       "</div>"
      ],
      "text/plain": [
       "       date\n",
       "0      date\n",
       "1  1/1/2015\n",
       "2  1/2/2015\n",
       "3  1/3/2015\n",
       "4  1/4/2015"
      ]
     },
     "execution_count": 6,
     "metadata": {},
     "output_type": "execute_result"
    }
   ],
   "source": [
    "query_string = \"\"\"\n",
    "SELECT\n",
    "date\n",
    "FROM `project1-327507.Game1.Table3`\n",
    "\n",
    "\n",
    "\"\"\"\n",
    "\n",
    "\n",
    "df_1 = (\n",
    "    bqclient.query(query_string)\n",
    "    .result()\n",
    "    .to_dataframe(\n",
    "        # Optionally, explicitly request to use the BigQuery Storage API. As of\n",
    "        # google-cloud-bigquery version 1.26.0 and above, the BigQuery Storage\n",
    "        # API is used by default.\n",
    "        create_bqstorage_client=True,\n",
    "    )\n",
    ")\n",
    "df_1.head()"
   ]
  },
  {
   "cell_type": "markdown",
   "id": "f58bb4a2",
   "metadata": {},
   "source": [
    "#### Write df to bigquery"
   ]
  },
  {
   "cell_type": "code",
   "execution_count": null,
   "id": "fea7f2df",
   "metadata": {},
   "outputs": [],
   "source": [
    "!pip install pandas-gbq==0.14.0"
   ]
  },
  {
   "cell_type": "code",
   "execution_count": 1,
   "id": "33efd6ba",
   "metadata": {},
   "outputs": [],
   "source": [
    "from datalab.context import Context\n",
    "import datalab.storage as storage\n",
    "import datalab.bigquery as bq\n",
    "import pandas as pd\n",
    "from pandas import DataFrame\n",
    "import time"
   ]
  },
  {
   "cell_type": "code",
   "execution_count": 2,
   "id": "f9467611",
   "metadata": {},
   "outputs": [],
   "source": [
    "import pandas_gbq"
   ]
  },
  {
   "cell_type": "code",
   "execution_count": 30,
   "id": "7ffa1673",
   "metadata": {},
   "outputs": [
    {
     "name": "stdout",
     "output_type": "stream",
     "text": [
      "Requirement already satisfied: pyarrow in c:\\anaconda3\\envs\\prophet\\lib\\site-packages (4.0.1)"
     ]
    },
    {
     "name": "stderr",
     "output_type": "stream",
     "text": [
      "WARNING: Ignoring invalid distribution -umpy (c:\\anaconda3\\envs\\prophet\\lib\\site-packages)\n",
      "WARNING: Ignoring invalid distribution -rotobuf (c:\\anaconda3\\envs\\prophet\\lib\\site-packages)\n",
      "WARNING: Ignoring invalid distribution -umpy (c:\\anaconda3\\envs\\prophet\\lib\\site-packages)\n",
      "WARNING: Ignoring invalid distribution -rotobuf (c:\\anaconda3\\envs\\prophet\\lib\\site-packages)\n",
      "WARNING: Ignoring invalid distribution -umpy (c:\\anaconda3\\envs\\prophet\\lib\\site-packages)\n",
      "WARNING: Ignoring invalid distribution -rotobuf (c:\\anaconda3\\envs\\prophet\\lib\\site-packages)\n",
      "WARNING: Ignoring invalid distribution -umpy (c:\\anaconda3\\envs\\prophet\\lib\\site-packages)\n",
      "WARNING: Ignoring invalid distribution -rotobuf (c:\\anaconda3\\envs\\prophet\\lib\\site-packages)\n",
      "WARNING: Ignoring invalid distribution -umpy (c:\\anaconda3\\envs\\prophet\\lib\\site-packages)\n",
      "WARNING: Ignoring invalid distribution -rotobuf (c:\\anaconda3\\envs\\prophet\\lib\\site-packages)\n"
     ]
    },
    {
     "name": "stdout",
     "output_type": "stream",
     "text": [
      "\n",
      "Requirement already satisfied: numpy>=1.16.6 in c:\\anaconda3\\envs\\prophet\\lib\\site-packages (from pyarrow) (1.20.3)\n"
     ]
    }
   ],
   "source": [
    "!pip install pyarrow"
   ]
  },
  {
   "cell_type": "code",
   "execution_count": 3,
   "id": "c368388c",
   "metadata": {},
   "outputs": [],
   "source": [
    "my_data = [{1,2,3}]\n",
    "for i in range(0,100000):\n",
    "    my_data.append({1,2,3})\n",
    "not_so_simple_dataframe = pd.DataFrame(data=my_data,columns=['a','b','c'])"
   ]
  },
  {
   "cell_type": "code",
   "execution_count": 28,
   "id": "274773f0",
   "metadata": {},
   "outputs": [
    {
     "name": "stderr",
     "output_type": "stream",
     "text": [
      "1it [00:09,  9.98s/it]\n"
     ]
    }
   ],
   "source": [
    "pandas_gbq.to_gbq(dataframe=not_so_simple_dataframe,\n",
    "                  destination_table=\"forecasts.samplewrite2\" ,\n",
    "                  project_id=project_id,\n",
    "                  if_exists='append')\n"
   ]
  },
  {
   "cell_type": "code",
   "execution_count": null,
   "id": "5c44ddc3",
   "metadata": {},
   "outputs": [],
   "source": []
  },
  {
   "cell_type": "code",
   "execution_count": null,
   "id": "432c95aa",
   "metadata": {},
   "outputs": [],
   "source": []
  },
  {
   "cell_type": "code",
   "execution_count": 23,
   "id": "065f88d6",
   "metadata": {},
   "outputs": [
    {
     "name": "stderr",
     "output_type": "stream",
     "text": [
      "'storage' is not recognized as an internal or external command,\n",
      "operable program or batch file.\n"
     ]
    },
    {
     "ename": "NameError",
     "evalue": "name 'table' is not defined",
     "output_type": "error",
     "traceback": [
      "\u001b[1;31m---------------------------------------------------------------------------\u001b[0m",
      "\u001b[1;31mNameError\u001b[0m                                 Traceback (most recent call last)",
      "\u001b[1;32mC:\\Users\\AMRMED~1\\AppData\\Local\\Temp/ipykernel_11936/1028147952.py\u001b[0m in \u001b[0;36m<module>\u001b[1;34m\u001b[0m\n\u001b[0;32m     17\u001b[0m \u001b[1;33m\u001b[0m\u001b[0m\n\u001b[0;32m     18\u001b[0m \u001b[1;31m# Write the DataFrame to a BigQuery table\u001b[0m\u001b[1;33m\u001b[0m\u001b[1;33m\u001b[0m\u001b[1;33m\u001b[0m\u001b[0m\n\u001b[1;32m---> 19\u001b[1;33m \u001b[0mtable\u001b[0m\u001b[1;33m.\u001b[0m\u001b[0minsert_data\u001b[0m\u001b[1;33m(\u001b[0m\u001b[0mnot_so_simple_dataframe\u001b[0m\u001b[1;33m)\u001b[0m\u001b[1;33m\u001b[0m\u001b[1;33m\u001b[0m\u001b[0m\n\u001b[0m\u001b[0;32m     20\u001b[0m \u001b[0mend\u001b[0m \u001b[1;33m=\u001b[0m \u001b[0mtime\u001b[0m\u001b[1;33m.\u001b[0m\u001b[0mtime\u001b[0m\u001b[1;33m(\u001b[0m\u001b[1;33m)\u001b[0m\u001b[1;33m\u001b[0m\u001b[1;33m\u001b[0m\u001b[0m\n\u001b[0;32m     21\u001b[0m \u001b[0mprint\u001b[0m\u001b[1;33m(\u001b[0m\u001b[1;34m\"time alternative 3 \"\u001b[0m \u001b[1;33m+\u001b[0m \u001b[0mstr\u001b[0m\u001b[1;33m(\u001b[0m\u001b[0mend\u001b[0m \u001b[1;33m-\u001b[0m \u001b[0mstart\u001b[0m\u001b[1;33m)\u001b[0m\u001b[1;33m)\u001b[0m\u001b[1;33m\u001b[0m\u001b[1;33m\u001b[0m\u001b[0m\n",
      "\u001b[1;31mNameError\u001b[0m: name 'table' is not defined"
     ]
    }
   ],
   "source": [
    "#Alternative 3\n",
    "start = time.time()\n",
    "sample_bucket_name = 'mybucket-amr'\n",
    "sample_bucket_path = 'gs://' + sample_bucket_name\n",
    "sample_bucket_object = sample_bucket_path + '/Hello.txt'\n",
    "bigquery_dataset_name = 'forecasts'\n",
    "bigquery_table_name = 'TestTable'\n",
    "\n",
    "# Define storage bucket\n",
    "sample_bucket = storage.Bucket(sample_bucket_name)\n",
    "\n",
    "# Create or overwrite the existing table if it exists\n",
    "table_schema = bq.Schema.from_dataframe(not_so_simple_dataframe)\n",
    "\n",
    "# Write the DataFrame to GCS (Google Cloud Storage)\n",
    "!storage write --variable not_so_simple_dataframe --object $sample_bucket_object\n",
    "\n",
    "# Write the DataFrame to a BigQuery table\n",
    "table.insert_data(not_so_simple_dataframe)\n",
    "end = time.time()\n",
    "print(\"time alternative 3 \" + str(end - start))"
   ]
  },
  {
   "cell_type": "code",
   "execution_count": null,
   "id": "05620041",
   "metadata": {},
   "outputs": [],
   "source": []
  }
 ],
 "metadata": {
  "kernelspec": {
   "display_name": "Python 3 (ipykernel)",
   "language": "python",
   "name": "python3"
  },
  "language_info": {
   "codemirror_mode": {
    "name": "ipython",
    "version": 3
   },
   "file_extension": ".py",
   "mimetype": "text/x-python",
   "name": "python",
   "nbconvert_exporter": "python",
   "pygments_lexer": "ipython3",
   "version": "3.8.12"
  }
 },
 "nbformat": 4,
 "nbformat_minor": 5
}
