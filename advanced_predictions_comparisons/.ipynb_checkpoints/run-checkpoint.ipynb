{
 "cells": [
  {
   "cell_type": "code",
   "execution_count": 2,
   "id": "09135d54",
   "metadata": {},
   "outputs": [],
   "source": [
    "import os\n",
    "from prophet import Prophet\n",
    "import numpy as np\n",
    "import pandas as pd\n",
    "import itertools\n",
    "from prophet.diagnostics import cross_validation\n",
    "\n",
    "from google.cloud import bigquery\n",
    "\n",
    "\n",
    "import json\n",
    "from prophet.serialize import model_to_json, model_from_json\n",
    "\n",
    "from datetime import datetime, timedelta\n",
    "\n",
    "import sklearn.metrics as metrics\n",
    "import pandas_gbq\n",
    "\n",
    "# from pmdarima import auto_arima\n",
    "# from statsmodels.graphics.tsaplots import plot_acf,plot_pacf\n",
    "# from statsmodels.tsa.stattools import adfuller\n",
    "# from pmdarima.arima import ADFTest\n",
    "# from statsmodels.tsa.arima_model import ARIMA\n",
    "# from statsmodels.tsa.stattools import acf, pacf\n",
    "# import statsmodels.api as sm\n",
    "# from pmdarima.arima import auto_arima\n",
    "\n",
    "import uuid \n",
    "\n",
    "import import_ipynb\n",
    "\n",
    "\n",
    "import pandas as pd\n",
    "from statsmodels.tsa.seasonal import seasonal_decompose\n",
    "\n",
    "import matplotlib.pyplot as plt\n",
    "plt.style.use(\"fivethirtyeight\")"
   ]
  },
  {
   "cell_type": "code",
   "execution_count": 3,
   "id": "4f2382df",
   "metadata": {},
   "outputs": [
    {
     "name": "stdout",
     "output_type": "stream",
     "text": [
      "importing Jupyter notebook from prepare_data.ipynb\n",
      "importing Jupyter notebook from Utilities.ipynb\n",
      "importing Jupyter notebook from main.ipynb\n"
     ]
    }
   ],
   "source": [
    "from prepare_data import PL_events\n",
    "\n",
    "from Utilities import generate_prophet_time_frame,initialize_model_db,initialize_forecast_db,save_pandas_dataframe\n",
    "\n",
    "from main import timedata,model_build,data_extended"
   ]
  },
  {
   "cell_type": "code",
   "execution_count": 9,
   "id": "6273ad6c",
   "metadata": {},
   "outputs": [],
   "source": [
    "os.environ['GOOGLE_APPLICATION_CREDENTIALS'] = 'C:/cloud/gcs_service_account.json'\n",
    "bqclient = bigquery.Client()\n",
    "\n",
    "model_directory=\"C:\\modeldb\\sample\"\n",
    "\n",
    "\n",
    "#Time Series Parameters\n",
    "Parameters= {\"vxp_client_id\": 1 , \n",
    "             \"metric\":\"DAU\",\n",
    "            \"game\":'All',\n",
    "            \"platform\" : 'All'}\n",
    "\n",
    "\n",
    "#Bigquery parameters\n",
    "project_id=\"project1-327507\"\n",
    "dataset=\"forecasts\"\n",
    "model_table=f\"{dataset}.model{Parameters['metric']}\"\n",
    "forecast_table=f\"{dataset}.forecasts_{Parameters['metric']}\""
   ]
  },
  {
   "cell_type": "code",
   "execution_count": 77,
   "id": "37b03090",
   "metadata": {},
   "outputs": [],
   "source": [
    "#These functions should be moved to utilities\n",
    "#Functions to write model output to bigquery \n",
    "def write_model_db_to_bq(model_output_data,parameters):\n",
    "    model_output_data.update(parameters)\n",
    "    print(model_output_data)\n",
    "    \n",
    "    pandas_gbq.to_gbq(dataframe=pd.DataFrame(model_output_data),\n",
    "                  destination_table=model_table ,\n",
    "                  project_id=project_id,\n",
    "                  if_exists='append')\n",
    "\n",
    "def write_forecasts_to_bq(forecasts_df):    \n",
    "    pandas_gbq.to_gbq(forecasts_df,\n",
    "                  destination_table=forecast_table ,\n",
    "                  project_id=project_id,\n",
    "                  if_exists='append')\n",
    "\n",
    "    \n",
    "    \n",
    "def read_model_db_from_bq(Parameters):\n",
    "    try :\n",
    "        query_string=f\"\"\"\n",
    "        SELECT\n",
    "        *\n",
    "        FROM `{project_id}.{model_table}` \n",
    "        where \n",
    "        vxp_client_id={Parameters['vxp_client_id']} \n",
    "        order by model_training_date desc limit 1 \"\"\"\n",
    "#         print(query_string)\n",
    "        model_df = (\n",
    "        bqclient.query(query_string)\n",
    "        .result()\n",
    "        .to_dataframe(\n",
    "            # Optionally, explicitly request to use the BigQuery Storage API. As of\n",
    "            # google-cloud-bigquery version 1.26.0 and above, the BigQuery Storage\n",
    "            # API is used by default.\n",
    "            create_bqstorage_client=True,\n",
    "                    )\n",
    "                )\n",
    "        \n",
    "        model_id=model_df['model_id'].iloc[0]\n",
    "        model_path=model_df['model_path'].iloc[0]\n",
    "        return model_df,model_id,model_path\n",
    "    except :\n",
    "        print(\"Model DB is not created yet\")\n",
    "        return None\n",
    "    \n",
    "def read_forecast_db_from_bq(model_id):\n",
    "    \n",
    "    try :\n",
    "        query_string=f\"\"\"\n",
    "        SELECT\n",
    "        *\n",
    "        FROM `{project_id}.{forecast_table}` \n",
    "        where \n",
    "        model_id='{model_id}' \n",
    "        order by ds \n",
    "         \"\"\"\n",
    "        print(query_string)\n",
    "        forecast_df = (\n",
    "        bqclient.query(query_string)\n",
    "        .result()\n",
    "        .to_dataframe(\n",
    "            # Optionally, explicitly request to use the BigQuery Storage API. As of\n",
    "            # google-cloud-bigquery version 1.26.0 and above, the BigQuery Storage\n",
    "            # API is used by default.\n",
    "            create_bqstorage_client=True,\n",
    "                    )\n",
    "                )\n",
    "        return forecast_df\n",
    "    except :\n",
    "        print(\"Forecasts not found\")\n",
    "        \n",
    "\n",
    "def benchmark(yhat,yhat_lower,yhat_upper,y):\n",
    "    if y > yhat_upper or y < yhat_lower :\n",
    "        print(\"Outside of confidence intervals\")\n",
    "    \n",
    "    else :\n",
    "        print(\"Inside confidence interval\")\n",
    "    \n",
    "def load_model(model_path):\n",
    "    with open(model_path, 'r') as fin:\n",
    "        m = model_from_json(json.load(fin))  # Load model\n",
    "    return m\n"
   ]
  },
  {
   "cell_type": "code",
   "execution_count": 18,
   "id": "c55f5b0a",
   "metadata": {},
   "outputs": [
    {
     "name": "stdout",
     "output_type": "stream",
     "text": [
      "Model DB is not created yet\n"
     ]
    }
   ],
   "source": [
    "df_read=read_model_db_from_bq(Parameters)\n",
    "df_read"
   ]
  },
  {
   "cell_type": "code",
   "execution_count": 20,
   "id": "c4dc958d",
   "metadata": {},
   "outputs": [
    {
     "data": {
      "text/plain": [
       "<prophet.forecaster.Prophet at 0x2bea3994e20>"
      ]
     },
     "execution_count": 20,
     "metadata": {},
     "output_type": "execute_result"
    }
   ],
   "source": [
    "load_model(df_read['model_path'].iloc[0])"
   ]
  },
  {
   "cell_type": "code",
   "execution_count": 19,
   "id": "23af24b4",
   "metadata": {},
   "outputs": [
    {
     "data": {
      "text/html": [
       "<div>\n",
       "<style scoped>\n",
       "    .dataframe tbody tr th:only-of-type {\n",
       "        vertical-align: middle;\n",
       "    }\n",
       "\n",
       "    .dataframe tbody tr th {\n",
       "        vertical-align: top;\n",
       "    }\n",
       "\n",
       "    .dataframe thead th {\n",
       "        text-align: right;\n",
       "    }\n",
       "</style>\n",
       "<table border=\"1\" class=\"dataframe\">\n",
       "  <thead>\n",
       "    <tr style=\"text-align: right;\">\n",
       "      <th></th>\n",
       "      <th>checkpoint</th>\n",
       "      <th>count_players</th>\n",
       "    </tr>\n",
       "    <tr>\n",
       "      <th>date</th>\n",
       "      <th></th>\n",
       "      <th></th>\n",
       "    </tr>\n",
       "  </thead>\n",
       "  <tbody>\n",
       "    <tr>\n",
       "      <th>2021-11-07</th>\n",
       "      <td>2021-11-07</td>\n",
       "      <td>135738</td>\n",
       "    </tr>\n",
       "    <tr>\n",
       "      <th>2021-11-08</th>\n",
       "      <td>2021-11-08</td>\n",
       "      <td>133056</td>\n",
       "    </tr>\n",
       "  </tbody>\n",
       "</table>\n",
       "</div>"
      ],
      "text/plain": [
       "            checkpoint  count_players\n",
       "date                                 \n",
       "2021-11-07  2021-11-07         135738\n",
       "2021-11-08  2021-11-08         133056"
      ]
     },
     "execution_count": 19,
     "metadata": {},
     "output_type": "execute_result"
    }
   ],
   "source": [
    "PL_events.tail(2)"
   ]
  },
  {
   "cell_type": "code",
   "execution_count": 7,
   "id": "f80466de",
   "metadata": {},
   "outputs": [],
   "source": [
    "#Steps brainstorming \n",
    "\n",
    "#What we have \n",
    "#1- Current Date (run_date)\n",
    "#2- Time series that we will be working on (vxp_client_id , metric , game, platform)\n",
    "\n",
    "\n",
    "\n",
    "# Steps\n",
    "\n",
    "\n",
    "#Query bigquery model_db table using the parameters given\n",
    "# if model exists retrieve the model parameters and model_path\n",
    "    #Load the model using the model path \n",
    "    #Instantiate the model_build class using the old model \n",
    "    \n",
    "    #query forecast db to calculate previous forecasts and just produce the error between actual(incoming data) and forecasts\n",
    "    \n",
    "#if model doesnot exist \n",
    "    #Instantiate the model_build class\n",
    "    \n",
    "\n",
    "#\n",
    "    \n",
    "#Decide on the best possible training (either fitting from scratch , forecasting ,)\n",
    "#Initially we can create a dummy function that ouputs window of training,training type\n",
    "\n",
    "\n",
    "\n",
    "\n",
    "\n",
    "#"
   ]
  },
  {
   "cell_type": "code",
   "execution_count": 20,
   "id": "6141a535",
   "metadata": {},
   "outputs": [],
   "source": [
    "PL_events_i=data_extended(PL_events)\n",
    "train,test=PL_events_i.hold_out_data(0.2)\n",
    "\n",
    "model_db,forecast_db=initialize_model_db(),initialize_forecast_db()\n"
   ]
  },
  {
   "cell_type": "code",
   "execution_count": 21,
   "id": "036670bc",
   "metadata": {},
   "outputs": [],
   "source": [
    "model_prophet=model_build()\n"
   ]
  },
  {
   "cell_type": "code",
   "execution_count": 22,
   "id": "3f307985",
   "metadata": {},
   "outputs": [
    {
     "name": "stderr",
     "output_type": "stream",
     "text": [
      "INFO:prophet:Disabling yearly seasonality. Run prophet with yearly_seasonality=True to override this.\n",
      "INFO:prophet:Disabling daily seasonality. Run prophet with daily_seasonality=True to override this.\n"
     ]
    },
    {
     "name": "stdout",
     "output_type": "stream",
     "text": [
      "Train data is between 01-05-2021 and 08-11-2021\n",
      "Train Mean Absolute Error: 3479.65405894711\n",
      "Forecasts between 09-11-2021 and 28-12-2021 \n",
      "\n"
     ]
    }
   ],
   "source": [
    "model_prophet.fit(train_data=train.append(test),measure=\"count_players\")\n",
    "model_output=model_prophet.evaluate()\n",
    "new_forecast_db=model_prophet.forecast(forecast_steps=50)"
   ]
  },
  {
   "cell_type": "code",
   "execution_count": 23,
   "id": "8208c849",
   "metadata": {},
   "outputs": [
    {
     "data": {
      "text/html": [
       "<div>\n",
       "<style scoped>\n",
       "    .dataframe tbody tr th:only-of-type {\n",
       "        vertical-align: middle;\n",
       "    }\n",
       "\n",
       "    .dataframe tbody tr th {\n",
       "        vertical-align: top;\n",
       "    }\n",
       "\n",
       "    .dataframe thead th {\n",
       "        text-align: right;\n",
       "    }\n",
       "</style>\n",
       "<table border=\"1\" class=\"dataframe\">\n",
       "  <thead>\n",
       "    <tr style=\"text-align: right;\">\n",
       "      <th></th>\n",
       "      <th>ds</th>\n",
       "      <th>yhat</th>\n",
       "      <th>yhat_lower</th>\n",
       "      <th>yhat_upper</th>\n",
       "      <th>model_id</th>\n",
       "    </tr>\n",
       "  </thead>\n",
       "  <tbody>\n",
       "    <tr>\n",
       "      <th>0</th>\n",
       "      <td>2021-11-09</td>\n",
       "      <td>143018.357327</td>\n",
       "      <td>136646.842409</td>\n",
       "      <td>148970.531765</td>\n",
       "      <td>f92e5288-25d8-4296-89a3-64595239e030</td>\n",
       "    </tr>\n",
       "    <tr>\n",
       "      <th>1</th>\n",
       "      <td>2021-11-10</td>\n",
       "      <td>142525.435538</td>\n",
       "      <td>135901.393863</td>\n",
       "      <td>148416.346825</td>\n",
       "      <td>f92e5288-25d8-4296-89a3-64595239e030</td>\n",
       "    </tr>\n",
       "  </tbody>\n",
       "</table>\n",
       "</div>"
      ],
      "text/plain": [
       "          ds           yhat     yhat_lower     yhat_upper  \\\n",
       "0 2021-11-09  143018.357327  136646.842409  148970.531765   \n",
       "1 2021-11-10  142525.435538  135901.393863  148416.346825   \n",
       "\n",
       "                               model_id  \n",
       "0  f92e5288-25d8-4296-89a3-64595239e030  \n",
       "1  f92e5288-25d8-4296-89a3-64595239e030  "
      ]
     },
     "execution_count": 23,
     "metadata": {},
     "output_type": "execute_result"
    }
   ],
   "source": [
    "new_forecast_db.head(2)"
   ]
  },
  {
   "cell_type": "code",
   "execution_count": 24,
   "id": "65ec2a2f",
   "metadata": {},
   "outputs": [
    {
     "data": {
      "image/png": "[encoded data removed]",
      "text/plain": [
       "<Figure size 864x360 with 1 Axes>"
      ]
     },
     "metadata": {},
     "output_type": "display_data"
    }
   ],
   "source": [
    "model_prophet.plot()"
   ]
  },
  {
   "cell_type": "code",
   "execution_count": 25,
   "id": "a4892394",
   "metadata": {},
   "outputs": [
    {
     "name": "stdout",
     "output_type": "stream",
     "text": [
      "{'model_id': [UUID('f92e5288-25d8-4296-89a3-64595239e030')], 'model_path': ['C:\\\\modeldb\\\\sample\\\\f92e5288-25d8-4296-89a3-64595239e030.json'], 'model_type': ['Prophet'], 'model_training_date': ['2021-12-25, 14:17:14'], 'model_train_starttime': [Timestamp('2021-05-01 00:00:00')], 'model_train_endtime': [Timestamp('2021-11-08 00:00:00')], 'time_complexity': [1.7929155826568604], 'model_test_starttime': [None], 'model_test_endtime': [None], 'training_type': ['fit'], 'model_train_MAE': [3479.65405894711], 'model_test_MAE': [None], 'vxp_client_id': 1, 'metric': 'DAU', 'game': 'All', 'platform': 'All'}\n"
     ]
    },
    {
     "name": "stderr",
     "output_type": "stream",
     "text": [
      "1 out of 1 rows loaded.pandas_gbq.gbq:\n",
      "1it [00:05,  5.58s/it]\n"
     ]
    }
   ],
   "source": [
    "write_model_db_to_bq(model_output,Parameters)"
   ]
  },
  {
   "cell_type": "code",
   "execution_count": 32,
   "id": "33dd5ed3",
   "metadata": {},
   "outputs": [
    {
     "name": "stderr",
     "output_type": "stream",
     "text": [
      "50 out of 50 rows loaded.ndas_gbq.gbq:\n",
      "1it [00:04,  4.14s/it]\n"
     ]
    }
   ],
   "source": [
    "write_forecasts_to_bq(new_forecast_db)"
   ]
  },
  {
   "cell_type": "code",
   "execution_count": 26,
   "id": "296a98a0",
   "metadata": {},
   "outputs": [],
   "source": [
    "model_prophet.save_model(model_directory)\n"
   ]
  },
  {
   "cell_type": "markdown",
   "id": "3ee90310",
   "metadata": {},
   "source": [
    "### After saving the modeldb and model path , lets try to load the latest model again "
   ]
  },
  {
   "cell_type": "code",
   "execution_count": 29,
   "id": "3407562f",
   "metadata": {},
   "outputs": [
    {
     "name": "stdout",
     "output_type": "stream",
     "text": [
      "f92e5288-25d8-4296-89a3-64595239e030\n",
      "C:\\modeldb\\sample\\f92e5288-25d8-4296-89a3-64595239e030.json\n"
     ]
    }
   ],
   "source": [
    "model_df,model_id,model_path=read_model_db_from_bq(Parameters)\n",
    "print(model_id)\n",
    "print(model_path)"
   ]
  },
  {
   "cell_type": "code",
   "execution_count": 30,
   "id": "2abfb9ee",
   "metadata": {},
   "outputs": [
    {
     "data": {
      "text/html": [
       "<div>\n",
       "<style scoped>\n",
       "    .dataframe tbody tr th:only-of-type {\n",
       "        vertical-align: middle;\n",
       "    }\n",
       "\n",
       "    .dataframe tbody tr th {\n",
       "        vertical-align: top;\n",
       "    }\n",
       "\n",
       "    .dataframe thead th {\n",
       "        text-align: right;\n",
       "    }\n",
       "</style>\n",
       "<table border=\"1\" class=\"dataframe\">\n",
       "  <thead>\n",
       "    <tr style=\"text-align: right;\">\n",
       "      <th></th>\n",
       "      <th>model_id</th>\n",
       "      <th>model_path</th>\n",
       "      <th>model_type</th>\n",
       "      <th>model_training_date</th>\n",
       "      <th>model_train_starttime</th>\n",
       "      <th>model_train_endtime</th>\n",
       "      <th>time_complexity</th>\n",
       "      <th>model_test_starttime</th>\n",
       "      <th>model_test_endtime</th>\n",
       "      <th>training_type</th>\n",
       "      <th>model_train_MAE</th>\n",
       "      <th>model_test_MAE</th>\n",
       "      <th>vxp_client_id</th>\n",
       "      <th>metric</th>\n",
       "      <th>game</th>\n",
       "      <th>platform</th>\n",
       "    </tr>\n",
       "  </thead>\n",
       "  <tbody>\n",
       "    <tr>\n",
       "      <th>0</th>\n",
       "      <td>f92e5288-25d8-4296-89a3-64595239e030</td>\n",
       "      <td>C:\\modeldb\\sample\\f92e5288-25d8-4296-89a3-6459...</td>\n",
       "      <td>Prophet</td>\n",
       "      <td>2021-12-25, 14:17:14</td>\n",
       "      <td>2021-05-01 00:00:00+00:00</td>\n",
       "      <td>2021-11-08 00:00:00+00:00</td>\n",
       "      <td>1.792916</td>\n",
       "      <td>None</td>\n",
       "      <td>None</td>\n",
       "      <td>fit</td>\n",
       "      <td>3479.654059</td>\n",
       "      <td>None</td>\n",
       "      <td>1</td>\n",
       "      <td>DAU</td>\n",
       "      <td>All</td>\n",
       "      <td>All</td>\n",
       "    </tr>\n",
       "  </tbody>\n",
       "</table>\n",
       "</div>"
      ],
      "text/plain": [
       "                               model_id  \\\n",
       "0  f92e5288-25d8-4296-89a3-64595239e030   \n",
       "\n",
       "                                          model_path model_type  \\\n",
       "0  C:\\modeldb\\sample\\f92e5288-25d8-4296-89a3-6459...    Prophet   \n",
       "\n",
       "    model_training_date     model_train_starttime       model_train_endtime  \\\n",
       "0  2021-12-25, 14:17:14 2021-05-01 00:00:00+00:00 2021-11-08 00:00:00+00:00   \n",
       "\n",
       "   time_complexity model_test_starttime model_test_endtime training_type  \\\n",
       "0         1.792916                 None               None           fit   \n",
       "\n",
       "   model_train_MAE model_test_MAE  vxp_client_id metric game platform  \n",
       "0      3479.654059           None              1    DAU  All      All  "
      ]
     },
     "execution_count": 30,
     "metadata": {},
     "output_type": "execute_result"
    }
   ],
   "source": [
    "model_df"
   ]
  },
  {
   "cell_type": "code",
   "execution_count": 43,
   "id": "c16c2b41",
   "metadata": {},
   "outputs": [
    {
     "name": "stdout",
     "output_type": "stream",
     "text": [
      "\n",
      "        SELECT\n",
      "        *\n",
      "        FROM `project1-327507.forecasts.forecasts_DAU` \n",
      "        where \n",
      "        model_id='f92e5288-25d8-4296-89a3-64595239e030' \n",
      "        order by ds \n",
      "         \n"
     ]
    },
    {
     "data": {
      "text/html": [
       "<div>\n",
       "<style scoped>\n",
       "    .dataframe tbody tr th:only-of-type {\n",
       "        vertical-align: middle;\n",
       "    }\n",
       "\n",
       "    .dataframe tbody tr th {\n",
       "        vertical-align: top;\n",
       "    }\n",
       "\n",
       "    .dataframe thead th {\n",
       "        text-align: right;\n",
       "    }\n",
       "</style>\n",
       "<table border=\"1\" class=\"dataframe\">\n",
       "  <thead>\n",
       "    <tr style=\"text-align: right;\">\n",
       "      <th></th>\n",
       "      <th>ds</th>\n",
       "      <th>yhat</th>\n",
       "      <th>yhat_lower</th>\n",
       "      <th>yhat_upper</th>\n",
       "      <th>model_id</th>\n",
       "    </tr>\n",
       "  </thead>\n",
       "  <tbody>\n",
       "    <tr>\n",
       "      <th>0</th>\n",
       "      <td>2021-11-09 00:00:00+00:00</td>\n",
       "      <td>143018.357327</td>\n",
       "      <td>136646.842409</td>\n",
       "      <td>148970.531765</td>\n",
       "      <td>f92e5288-25d8-4296-89a3-64595239e030</td>\n",
       "    </tr>\n",
       "    <tr>\n",
       "      <th>1</th>\n",
       "      <td>2021-11-10 00:00:00+00:00</td>\n",
       "      <td>142525.435538</td>\n",
       "      <td>135901.393863</td>\n",
       "      <td>148416.346825</td>\n",
       "      <td>f92e5288-25d8-4296-89a3-64595239e030</td>\n",
       "    </tr>\n",
       "    <tr>\n",
       "      <th>2</th>\n",
       "      <td>2021-11-11 00:00:00+00:00</td>\n",
       "      <td>142190.232076</td>\n",
       "      <td>136388.607542</td>\n",
       "      <td>148260.980299</td>\n",
       "      <td>f92e5288-25d8-4296-89a3-64595239e030</td>\n",
       "    </tr>\n",
       "    <tr>\n",
       "      <th>3</th>\n",
       "      <td>2021-11-12 00:00:00+00:00</td>\n",
       "      <td>141877.660783</td>\n",
       "      <td>135849.743575</td>\n",
       "      <td>148189.682919</td>\n",
       "      <td>f92e5288-25d8-4296-89a3-64595239e030</td>\n",
       "    </tr>\n",
       "    <tr>\n",
       "      <th>4</th>\n",
       "      <td>2021-11-13 00:00:00+00:00</td>\n",
       "      <td>142018.867210</td>\n",
       "      <td>135674.704902</td>\n",
       "      <td>148033.403702</td>\n",
       "      <td>f92e5288-25d8-4296-89a3-64595239e030</td>\n",
       "    </tr>\n",
       "  </tbody>\n",
       "</table>\n",
       "</div>"
      ],
      "text/plain": [
       "                         ds           yhat     yhat_lower     yhat_upper  \\\n",
       "0 2021-11-09 00:00:00+00:00  143018.357327  136646.842409  148970.531765   \n",
       "1 2021-11-10 00:00:00+00:00  142525.435538  135901.393863  148416.346825   \n",
       "2 2021-11-11 00:00:00+00:00  142190.232076  136388.607542  148260.980299   \n",
       "3 2021-11-12 00:00:00+00:00  141877.660783  135849.743575  148189.682919   \n",
       "4 2021-11-13 00:00:00+00:00  142018.867210  135674.704902  148033.403702   \n",
       "\n",
       "                               model_id  \n",
       "0  f92e5288-25d8-4296-89a3-64595239e030  \n",
       "1  f92e5288-25d8-4296-89a3-64595239e030  \n",
       "2  f92e5288-25d8-4296-89a3-64595239e030  \n",
       "3  f92e5288-25d8-4296-89a3-64595239e030  \n",
       "4  f92e5288-25d8-4296-89a3-64595239e030  "
      ]
     },
     "execution_count": 43,
     "metadata": {},
     "output_type": "execute_result"
    }
   ],
   "source": [
    "forecast_db=read_forecast_db_from_bq(model_id)\n",
    "forecast_db.head()"
   ]
  },
  {
   "cell_type": "markdown",
   "id": "56125216",
   "metadata": {},
   "source": [
    "#### We should then calculate accuracy of our forecasts at leats for one day"
   ]
  },
  {
   "cell_type": "code",
   "execution_count": 91,
   "id": "30a32338",
   "metadata": {},
   "outputs": [],
   "source": [
    "new_run_date_string=\"2021-11-09\"\n",
    "new_dau=140000"
   ]
  },
  {
   "cell_type": "code",
   "execution_count": 94,
   "id": "bae52e8d",
   "metadata": {},
   "outputs": [
    {
     "data": {
      "text/html": [
       "<div>\n",
       "<style scoped>\n",
       "    .dataframe tbody tr th:only-of-type {\n",
       "        vertical-align: middle;\n",
       "    }\n",
       "\n",
       "    .dataframe tbody tr th {\n",
       "        vertical-align: top;\n",
       "    }\n",
       "\n",
       "    .dataframe thead th {\n",
       "        text-align: right;\n",
       "    }\n",
       "</style>\n",
       "<table border=\"1\" class=\"dataframe\">\n",
       "  <thead>\n",
       "    <tr style=\"text-align: right;\">\n",
       "      <th></th>\n",
       "      <th>checkpoint</th>\n",
       "      <th>count_players</th>\n",
       "    </tr>\n",
       "    <tr>\n",
       "      <th>date</th>\n",
       "      <th></th>\n",
       "      <th></th>\n",
       "    </tr>\n",
       "  </thead>\n",
       "  <tbody>\n",
       "    <tr>\n",
       "      <th>2021-11-05</th>\n",
       "      <td>2021-11-05</td>\n",
       "      <td>134412</td>\n",
       "    </tr>\n",
       "    <tr>\n",
       "      <th>2021-11-06</th>\n",
       "      <td>2021-11-06</td>\n",
       "      <td>134787</td>\n",
       "    </tr>\n",
       "    <tr>\n",
       "      <th>2021-11-07</th>\n",
       "      <td>2021-11-07</td>\n",
       "      <td>135738</td>\n",
       "    </tr>\n",
       "    <tr>\n",
       "      <th>2021-11-08</th>\n",
       "      <td>2021-11-08</td>\n",
       "      <td>133056</td>\n",
       "    </tr>\n",
       "    <tr>\n",
       "      <th>2021-11-09</th>\n",
       "      <td>None</td>\n",
       "      <td>140000</td>\n",
       "    </tr>\n",
       "  </tbody>\n",
       "</table>\n",
       "</div>"
      ],
      "text/plain": [
       "            checkpoint  count_players\n",
       "date                                 \n",
       "2021-11-05  2021-11-05         134412\n",
       "2021-11-06  2021-11-06         134787\n",
       "2021-11-07  2021-11-07         135738\n",
       "2021-11-08  2021-11-08         133056\n",
       "2021-11-09        None         140000"
      ]
     },
     "execution_count": 94,
     "metadata": {},
     "output_type": "execute_result"
    }
   ],
   "source": [
    "PL_events_i.reset_incoming()\n",
    "all_data,incoming_df=PL_events_i.incoming_new(measure=\"count_players\",value_list=[new_dau])\n",
    "all_data.tail()"
   ]
  },
  {
   "cell_type": "code",
   "execution_count": 95,
   "id": "79f88aa1",
   "metadata": {},
   "outputs": [],
   "source": [
    "#Doing necessary changes to change datetimens to string to filter on new_run_date_string\n",
    "forecast_db['date']=forecast_db['ds'].apply(lambda x : x.strftime('%Y-%m-%d'))\n"
   ]
  },
  {
   "cell_type": "code",
   "execution_count": 96,
   "id": "105c8fc8",
   "metadata": {},
   "outputs": [],
   "source": [
    "forecast_values=forecast_db[forecast_db['date']==new_run_date_string].iloc[0]"
   ]
  },
  {
   "cell_type": "code",
   "execution_count": 97,
   "id": "b049a898",
   "metadata": {},
   "outputs": [
    {
     "data": {
      "text/plain": [
       "ds                       2021-11-09 00:00:00+00:00\n",
       "yhat                                 143018.357327\n",
       "yhat_lower                           136646.842409\n",
       "yhat_upper                           148970.531765\n",
       "model_id      f92e5288-25d8-4296-89a3-64595239e030\n",
       "date                                    2021-11-09\n",
       "Name: 0, dtype: object"
      ]
     },
     "execution_count": 97,
     "metadata": {},
     "output_type": "execute_result"
    }
   ],
   "source": [
    "forecast_values"
   ]
  },
  {
   "cell_type": "code",
   "execution_count": 98,
   "id": "87f2ec10",
   "metadata": {},
   "outputs": [],
   "source": [
    "yhat=forecast_values['yhat']\n",
    "yhat_lower=forecast_values['yhat_lower']                 \n",
    "yhat_upper=forecast_values['yhat_upper']"
   ]
  },
  {
   "cell_type": "code",
   "execution_count": 99,
   "id": "7eccadc1",
   "metadata": {},
   "outputs": [
    {
     "name": "stdout",
     "output_type": "stream",
     "text": [
      "Inside confidence interval\n"
     ]
    }
   ],
   "source": [
    "benchmark(yhat,yhat_lower,yhat_upper,y=new_dau)"
   ]
  },
  {
   "cell_type": "markdown",
   "id": "695b260f",
   "metadata": {},
   "source": [
    "### We will take the decision to predict using the last model"
   ]
  },
  {
   "cell_type": "code",
   "execution_count": 105,
   "id": "3fd74a0a",
   "metadata": {},
   "outputs": [],
   "source": [
    "m=load_model(model_path)"
   ]
  },
  {
   "cell_type": "code",
   "execution_count": 106,
   "id": "d3cad37a",
   "metadata": {},
   "outputs": [
    {
     "ename": "NameError",
     "evalue": "name 'load_latest_model' is not defined",
     "output_type": "error",
     "traceback": [
      "\u001b[1;31m---------------------------------------------------------------------------\u001b[0m",
      "\u001b[1;31mNameError\u001b[0m                                 Traceback (most recent call last)",
      "\u001b[1;32mC:\\Users\\AMRMED~1\\AppData\\Local\\Temp/ipykernel_3804/1672148630.py\u001b[0m in \u001b[0;36m<module>\u001b[1;34m\u001b[0m\n\u001b[1;32m----> 1\u001b[1;33m \u001b[0mmodel_build\u001b[0m\u001b[1;33m(\u001b[0m\u001b[0mm\u001b[0m\u001b[1;33m)\u001b[0m\u001b[1;33m\u001b[0m\u001b[1;33m\u001b[0m\u001b[0m\n\u001b[0m",
      "\u001b[1;32mC:\\jupyter\\advanced_predictions_comparisons\\main.ipynb\u001b[0m in \u001b[0;36m__init__\u001b[1;34m(self, prior_model)\u001b[0m\n",
      "\u001b[1;31mNameError\u001b[0m: name 'load_latest_model' is not defined"
     ]
    }
   ],
   "source": [
    "model_build(m)"
   ]
  },
  {
   "cell_type": "code",
   "execution_count": null,
   "id": "6dd9f384",
   "metadata": {},
   "outputs": [],
   "source": []
  }
 ],
 "metadata": {
  "kernelspec": {
   "display_name": "Python 3 (ipykernel)",
   "language": "python",
   "name": "python3"
  },
  "language_info": {
   "codemirror_mode": {
    "name": "ipython",
    "version": 3
   },
   "file_extension": ".py",
   "mimetype": "text/x-python",
   "name": "python",
   "nbconvert_exporter": "python",
   "pygments_lexer": "ipython3",
   "version": "3.8.12"
  }
 },
 "nbformat": 4,
 "nbformat_minor": 5
}
