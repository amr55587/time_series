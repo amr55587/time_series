{
 "cells": [
  {
   "cell_type": "code",
   "execution_count": 1,
   "id": "c52f7fcd",
   "metadata": {},
   "outputs": [],
   "source": [
    "import numpy as np\n",
    "import itertools\n",
    "\n",
    "\n",
    "from datetime import datetime, timedelta\n",
    "\n",
    "import sklearn.metrics as metrics\n",
    "\n",
    "\n",
    "import pandas as pd\n",
    "\n",
    "import matplotlib.pyplot as plt\n",
    "plt.style.use(\"fivethirtyeight\")"
   ]
  },
  {
   "cell_type": "markdown",
   "id": "a11fe910",
   "metadata": {},
   "source": [
    "# Utils Functions (helper functions for the time series classes) "
   ]
  },
  {
   "cell_type": "code",
   "execution_count": 2,
   "id": "c8e40206",
   "metadata": {},
   "outputs": [],
   "source": [
    "def generate_prophet_time_frame(start_date , forecast_steps=None,end_date=None):\n",
    "    \n",
    "    if isinstance(start_date,str):\n",
    "        start_date=datetime.strptime(start_date,'%Y/%m/%d')\n",
    "    \n",
    "    if forecast_steps is None and end_date is not None:\n",
    "        if isinstance(end_date,str):\n",
    "            end_date=datetime.strptime(end_date,'%Y/%m/%d')\n",
    "    else :\n",
    "        end_date=start_date + timedelta(days = forecast_steps-1)\n",
    "    \n",
    "    return pd.DataFrame(pd.date_range(start_date,end_date),columns=[\"ds\"])\n",
    "    "
   ]
  },
  {
   "cell_type": "code",
   "execution_count": 3,
   "id": "642cb479",
   "metadata": {},
   "outputs": [],
   "source": [
    "'''Functions that initilize an empty dataframe to put the metadata about the \n",
    "1- Model ( model id , last training time)\n",
    "2-Forecasts (model_id , predicted values , confidence intervals)\n",
    "'''\n",
    "\n",
    "# Parameters= {\"vxp_client_id\": 1 , \n",
    "#              \"metric\":\"DAU\",\n",
    "#             \"game\":'All',\n",
    "#             \"platform\" : 'All'}\n",
    "\n",
    "\n",
    "model_db_columns=[\"model_id\",\"model_path\",\"model_type\"\n",
    "                  \"model_training_day\",\"model_train_starttime\",\"model_train_endtime\",\n",
    "                  \"model_test_starttime\",\"model_test_endtime\",\n",
    "                  \"training_type\",\"model_name\",\n",
    "                  \"model_train_MAE\",\"model_test_MAE\" ,                  \n",
    "                  \"vxp_client_id\" , \"metric\" , \"game\", \"platform\"\n",
    "                 ]\n",
    "\n",
    "\n",
    "forecast_columns=[\"ds\",\"yhat\",\"yhat_lower\",\"yhat_upper\",\"model_id\"]\n",
    "\n",
    "\n",
    "def initialize_model_db(model_db_columns=model_db_columns):    \n",
    "#     model_db_columns=[\"model_id\",\"model_train_starttime\",\"model_train_endtime\",\"model_test_starttime\",\"model_test_endtime\",\n",
    "#             \"training_type\",\"model_training_day\",\"model_train_MAE\",\"model_test_MAE\"]\n",
    "    return pd.DataFrame([],columns=model_db_columns)\n",
    "    \n",
    "    \n",
    "def initialize_forecast_db(forecast_columns=forecast_columns):\n",
    "#     forecast_columns=[\"ds\",\"yhat\",\"yhat_lower\",\"yhat_upper\",\"model_id\"]\n",
    "    return pd.DataFrame([],columns=forecast_columns)\n",
    "\n",
    "\n",
    "\n",
    "\n",
    "def save_pandas_dataframe(df_new,df_old=None):        \n",
    "    '''Function that takes in two dataframes ,append one to the other . Useful for \n",
    "    -Appending new models to the existing model DB\n",
    "    -Appending new forecasts to the existing forecast DB\n",
    "    '''\n",
    "    if df_old is None :\n",
    "        return df_new\n",
    "    else:\n",
    "        if set(list(df_new.columns.values))==set(list(df_old.columns.values)):\n",
    "            return df_old.append(df_new)\n",
    "        else :\n",
    "            raise Exception(\"Cant add Dataframes\")    \n",
    "\n",
    "def next_timestamp(start_date_string):\n",
    "     x=datetime.strptime(start_date_string,'%Y/%m/%d') + timedelta(days =1)\n",
    "     return x.strftime('%Y/%m/%d')\n",
    "\n",
    "def nonetype_float(x):\n",
    "    if x is None :\n",
    "        return np.nan\n",
    "    else :\n",
    "        return x\n",
    "\n",
    "def nonetype_timestamp(x):\n",
    "    if x is None :\n",
    "        return ''\n",
    "    else :\n",
    "        return x.strftime(\"%Y-%m-%d\")\n",
    "        "
   ]
  },
  {
   "cell_type": "code",
   "execution_count": 4,
   "id": "fb43efbc",
   "metadata": {},
   "outputs": [],
   "source": [
    "#Define a function that takes in time of running and last fit date and returns all times between \n",
    "def date_between(model_fit_date):\n",
    "    return generate_prophet_time_frame(start_date=model_fit_date,end_date=datetime.now())\n",
    "\n",
    "#Here we investigate if something uprupt happends so we decide wether to fit , hypertune , or just forecast"
   ]
  },
  {
   "cell_type": "markdown",
   "id": "10916e96",
   "metadata": {},
   "source": [
    "# Workspace"
   ]
  },
  {
   "cell_type": "code",
   "execution_count": null,
   "id": "8f2a5d91",
   "metadata": {},
   "outputs": [],
   "source": []
  }
 ],
 "metadata": {
  "kernelspec": {
   "display_name": "venv",
   "language": "python",
   "name": "python3"
  },
  "language_info": {
   "codemirror_mode": {
    "name": "ipython",
    "version": 3
   },
   "file_extension": ".py",
   "mimetype": "text/x-python",
   "name": "python",
   "nbconvert_exporter": "python",
   "pygments_lexer": "ipython3",
   "version": "3.13.0"
  }
 },
 "nbformat": 4,
 "nbformat_minor": 5
}
