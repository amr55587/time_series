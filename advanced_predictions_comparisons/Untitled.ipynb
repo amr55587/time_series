{
 "cells": [
  {
   "cell_type": "code",
   "execution_count": 43,
   "id": "5accbda4",
   "metadata": {},
   "outputs": [],
   "source": [
    "from google.cloud import bigquery\n",
    "import os"
   ]
  },
  {
   "cell_type": "code",
   "execution_count": 44,
   "id": "08edb0a4",
   "metadata": {},
   "outputs": [],
   "source": [
    "os.environ['GOOGLE_APPLICATION_CREDENTIALS'] = 'C:/cloud/gcs_service_account.json'\n",
    "bqclient = bigquery.Client()"
   ]
  },
  {
   "cell_type": "code",
   "execution_count": null,
   "id": "54126c8e",
   "metadata": {},
   "outputs": [],
   "source": [
    "'''\n",
    "def initialize_model_db():    \n",
    "    model_db_columns=[\"model_id\",\"model_train_starttime\",\"model_train_endtime\",\"model_test_starttime\",\"model_test_endtime\",\n",
    "            \"training_type\",\"model_training_day\",\"model_train_MAE\",\"model_test_MAE\"]\n",
    "    return pd.DataFrame([],columns=model_db_columns)\n",
    "    \n",
    "    \n",
    "def initialize_forecast_db():\n",
    "    forecast_columns=[\"ds\",\"yhat\",\"yhat_lower\",\"yhat_upper\",\"model_id\"]\n",
    "    return pd.DataFrame([],columns=forecast_columns)\n",
    "    \n",
    "\n",
    "\n",
    "'''"
   ]
  },
  {
   "cell_type": "code",
   "execution_count": 25,
   "id": "c6a146f2",
   "metadata": {},
   "outputs": [
    {
     "name": "stdout",
     "output_type": "stream",
     "text": [
      "predictions_DAU\n"
     ]
    }
   ],
   "source": [
    "project_id=\"project1-327507\"\n",
    "\n",
    "dataset=\"forecasts\"\n",
    "\n",
    "\n",
    "Parameters= {\"vxp_client_id\": 1 , \n",
    "             \"metric\":\"DAU\",\n",
    "            \"game\":'All',\n",
    "            \"platform\" : 'All'}\n",
    "\n",
    "destination_table=f\"predictions_{Parameters['metric']}\"\n",
    "print(destination_table)"
   ]
  },
  {
   "cell_type": "code",
   "execution_count": 26,
   "id": "729c02b6",
   "metadata": {},
   "outputs": [],
   "source": [
    "''' model_output_data={'model_id':[self.model_id] ,\n",
    "                           'model_train_starttime':[self.modeltrain_startime],\n",
    "                           'model_train_endtime':[self.modeltrain_endtime],\n",
    "                          'model_test_starttime':[self.modeltest_starttime],\n",
    "                           'model_test_endtime':[self.modeltest_endtime],\n",
    "                          'training_type':['fit'],\n",
    "                          'model_training_day':[datetime.now().strftime('%d-%m-%Y')],\n",
    "                           'model_train_MAE':self.train_MAE,\n",
    "                           'model_test_MAE':self.test_MAE ,\n",
    "                           'path':$$GCS_path,\n",
    "                           \n",
    "                           \n",
    "                           \n",
    "                           'vxp_client_id':vxp_client_id,\n",
    "                           'metric':'DAU'\n",
    "                           \n",
    "                           \n",
    "                           \n",
    "                           \n",
    "                          }'''\n",
    "\n",
    "\n",
    "def check_model_db(Parameters):\n",
    "    try :\n",
    "        query_string=f\"\"\"\n",
    "        SELECT\n",
    "        *\n",
    "        FROM `{project_id}.{dataset}.{destination_table}` \n",
    "        where \n",
    "        vxp_client_id={Parameters['vxp_client_id']} \n",
    "        order by model_training_day desc limit 1 \"\"\"\n",
    "        print(query_string)\n",
    "        model_df = (\n",
    "        bqclient.query(query_string)\n",
    "        .result()\n",
    "        .to_dataframe(\n",
    "            # Optionally, explicitly request to use the BigQuery Storage API. As of\n",
    "            # google-cloud-bigquery version 1.26.0 and above, the BigQuery Storage\n",
    "            # API is used by default.\n",
    "            create_bqstorage_client=True,\n",
    "                    )\n",
    "                )\n",
    "        \n",
    "        return model_df\n",
    "    except :\n",
    "        return None\n",
    "\n",
    "def write_model_db(model_output_data,parameters,):\n",
    "    model_output_data.update(parameters)\n",
    "\n",
    "    \n",
    "    pandas_gbq.to_gbq(dataframe=pd.DataFrame(model_output_data),\n",
    "                  destination_table=destination_table ,\n",
    "                  project_id=project_id,\n",
    "                  if_exists='append')"
   ]
  },
  {
   "cell_type": "code",
   "execution_count": 27,
   "id": "33f28b78",
   "metadata": {},
   "outputs": [
    {
     "name": "stdout",
     "output_type": "stream",
     "text": [
      "\n",
      "        SELECT\n",
      "        *\n",
      "        FROM `project1-327507.forecasts.predictions_DAU` \n",
      "        where \n",
      "        vxp_client_id=1 \n",
      "        order by model_training_day desc limit 1 \n"
     ]
    }
   ],
   "source": [
    "check_model_db(Parameters)"
   ]
  },
  {
   "cell_type": "code",
   "execution_count": null,
   "id": "4db6691d",
   "metadata": {},
   "outputs": [],
   "source": [
    "def check_forecast_db():"
   ]
  },
  {
   "cell_type": "code",
   "execution_count": 40,
   "id": "8d85a3ab",
   "metadata": {},
   "outputs": [],
   "source": [
    "def return_none():\n",
    "    try :\n",
    "        r=bqclient()\n",
    "        return r,5,10\n",
    "    except:\n",
    "        return None,None,None\n",
    "    "
   ]
  },
  {
   "cell_type": "code",
   "execution_count": 41,
   "id": "d3d16787",
   "metadata": {},
   "outputs": [
    {
     "data": {
      "text/plain": [
       "(None, None, None)"
      ]
     },
     "execution_count": 41,
     "metadata": {},
     "output_type": "execute_result"
    }
   ],
   "source": [
    "return_none()"
   ]
  },
  {
   "cell_type": "markdown",
   "id": "dada08f0",
   "metadata": {},
   "source": [
    "# WorkSpace"
   ]
  },
  {
   "cell_type": "code",
   "execution_count": 1,
   "id": "c41a9e06",
   "metadata": {},
   "outputs": [],
   "source": [
    "Parameters= {\"vxp_client_id\": 1 , \n",
    "             \"metric\":\"DAU\",\n",
    "            \"game\":'All',\n",
    "            \"platform\" : 'All'}"
   ]
  },
  {
   "cell_type": "code",
   "execution_count": 6,
   "id": "735931cb",
   "metadata": {},
   "outputs": [],
   "source": [
    "project_id=\"project1-327507\"\n",
    "dataset=\"forecasts\"\n",
    "model_table=f\"{dataset}.model{Parameters['metric']}\"\n",
    "forecast_table=f\"{dataset}.forecasts_{Parameters['metric']}\""
   ]
  },
  {
   "cell_type": "code",
   "execution_count": 36,
   "id": "9fa9b700",
   "metadata": {},
   "outputs": [],
   "source": [
    "main_query=f\"\"\"\n",
    "        SELECT\n",
    "        *\n",
    "        FROM `{project_id}.{model_table}` \n",
    "        \"\"\""
   ]
  },
  {
   "cell_type": "code",
   "execution_count": 38,
   "id": "f76855db",
   "metadata": {},
   "outputs": [
    {
     "name": "stdout",
     "output_type": "stream",
     "text": [
      "\n",
      "        SELECT\n",
      "        *\n",
      "        FROM `project1-327507.forecasts.modelDAU` \n",
      "        \n"
     ]
    }
   ],
   "source": [
    "print(main_query)"
   ]
  },
  {
   "cell_type": "code",
   "execution_count": 9,
   "id": "d408f486",
   "metadata": {},
   "outputs": [
    {
     "data": {
      "text/plain": [
       "dict_items([('vxp_client_id', 1), ('metric', 'DAU'), ('game', 'All'), ('platform', 'All')])"
      ]
     },
     "execution_count": 9,
     "metadata": {},
     "output_type": "execute_result"
    }
   ],
   "source": [
    "Parameters.items()"
   ]
  },
  {
   "cell_type": "code",
   "execution_count": 31,
   "id": "80f2e859",
   "metadata": {},
   "outputs": [],
   "source": [
    "def add_where_conditions(main_query,Parameters):\n",
    "    where_statements=\"\"\"\"\"\"\n",
    "    first_where=True\n",
    "    for key,value in Parameters.items():\n",
    "        print(key,value)\n",
    "        if first_where:\n",
    "            print(\"hi\")\n",
    "            where_statements=where_statements + f\"\"\"where {key}={value} \"\"\"\n",
    "        else :\n",
    "            where_statements=where_statements + f\"\"\" and {key}={value}\"\"\"\n",
    "        first_where=False\n",
    "    return main_query + where_statements"
   ]
  },
  {
   "cell_type": "code",
   "execution_count": null,
   "id": "f4513241",
   "metadata": {},
   "outputs": [],
   "source": []
  },
  {
   "cell_type": "code",
   "execution_count": 33,
   "id": "7ab2892e",
   "metadata": {},
   "outputs": [
    {
     "name": "stdout",
     "output_type": "stream",
     "text": [
      "vxp_client_id 1\n",
      "hi\n",
      "metric DAU\n",
      "game All\n",
      "platform All\n"
     ]
    }
   ],
   "source": [
    "final_query=add_where_conditions(main_query,Parameters)"
   ]
  },
  {
   "cell_type": "code",
   "execution_count": 39,
   "id": "52ed036a",
   "metadata": {},
   "outputs": [
    {
     "name": "stdout",
     "output_type": "stream",
     "text": [
      "\n",
      "        SELECT\n",
      "        *\n",
      "        FROM `project1-327507.forecasts.modelDAU` \n",
      "        where vxp_client_id=1  and metric=DAU and game=All and platform=All\n"
     ]
    }
   ],
   "source": [
    "print(final_query)"
   ]
  },
  {
   "cell_type": "code",
   "execution_count": 35,
   "id": "350112f2",
   "metadata": {},
   "outputs": [
    {
     "data": {
      "text/plain": [
       "'\\n        SELECT\\n        *\\n        FROM `project1-327507.forecasts.modelDAU` \\n        '"
      ]
     },
     "execution_count": 35,
     "metadata": {},
     "output_type": "execute_result"
    }
   ],
   "source": [
    "main_query"
   ]
  },
  {
   "cell_type": "code",
   "execution_count": 18,
   "id": "90437b96",
   "metadata": {},
   "outputs": [],
   "source": [
    "where_statements=''.join(\"where vxp_client_id=5\")"
   ]
  },
  {
   "cell_type": "code",
   "execution_count": 20,
   "id": "68da5b0f",
   "metadata": {},
   "outputs": [
    {
     "data": {
      "text/plain": [
       "'awhere vxp_client_id=5nwhere vxp_client_id=5dwhere vxp_client_id=5 where vxp_client_id=5hwhere vxp_client_id=5awhere vxp_client_id=5m'"
      ]
     },
     "execution_count": 20,
     "metadata": {},
     "output_type": "execute_result"
    }
   ],
   "source": [
    "where_statements.join(\"and ham\")"
   ]
  },
  {
   "cell_type": "code",
   "execution_count": 19,
   "id": "96e44bc9",
   "metadata": {},
   "outputs": [
    {
     "data": {
      "text/plain": [
       "{'vxp_client_id': 1, 'metric': 'DAU', 'game': 'All', 'platform': 'All'}"
      ]
     },
     "execution_count": 19,
     "metadata": {},
     "output_type": "execute_result"
    }
   ],
   "source": [
    "Parameters"
   ]
  },
  {
   "cell_type": "code",
   "execution_count": 20,
   "id": "610bc172",
   "metadata": {},
   "outputs": [],
   "source": [
    "dictionary={\"A\":'a',\"B\":'b'}"
   ]
  },
  {
   "cell_type": "code",
   "execution_count": 22,
   "id": "45381f6d",
   "metadata": {},
   "outputs": [
    {
     "name": "stdout",
     "output_type": "stream",
     "text": [
      "{'A': 'a', 'B': 'b', 'vxp_client_id': 1, 'metric': 'DAU', 'game': 'All', 'platform': 'All'}\n"
     ]
    }
   ],
   "source": [
    "dictionary.update(Parameters)\n",
    "print(dictionary)"
   ]
  },
  {
   "cell_type": "code",
   "execution_count": 15,
   "id": "de43c6b9",
   "metadata": {},
   "outputs": [
    {
     "name": "stdout",
     "output_type": "stream",
     "text": [
      "\n",
      "    SELECT\n",
      "    *\n",
      "    FROM `project1-327507.forecasts.predictions_DAU` \n",
      "    where \n",
      "    vxp_client_id=1\n"
     ]
    }
   ],
   "source": [
    "query_string=f\"\"\"\n",
    "    SELECT\n",
    "    *\n",
    "    FROM `{project_id}.{dataset}.predictions_{Parameters['metric']}` \n",
    "    where \n",
    "    vxp_client_id={Parameters['vxp_client_id']}\"\"\"\n",
    "\n",
    "print(query_string)"
   ]
  },
  {
   "cell_type": "code",
   "execution_count": 10,
   "id": "f242fc02",
   "metadata": {},
   "outputs": [],
   "source": [
    "query_string = f\"\"\"\n",
    "SELECT\n",
    "date\n",
    "FROM `project1-327507.Game1.{Parameters['metric']}` \"\"\""
   ]
  },
  {
   "cell_type": "code",
   "execution_count": 11,
   "id": "688a46c3",
   "metadata": {},
   "outputs": [
    {
     "name": "stdout",
     "output_type": "stream",
     "text": [
      "\n",
      "SELECT\n",
      "date\n",
      "FROM `project1-327507.Game1.DAU` \n"
     ]
    }
   ],
   "source": [
    "print(query_string)"
   ]
  },
  {
   "cell_type": "code",
   "execution_count": 45,
   "id": "07a4161d",
   "metadata": {},
   "outputs": [
    {
     "data": {
      "text/html": [
       "<div>\n",
       "<style scoped>\n",
       "    .dataframe tbody tr th:only-of-type {\n",
       "        vertical-align: middle;\n",
       "    }\n",
       "\n",
       "    .dataframe tbody tr th {\n",
       "        vertical-align: top;\n",
       "    }\n",
       "\n",
       "    .dataframe thead th {\n",
       "        text-align: right;\n",
       "    }\n",
       "</style>\n",
       "<table border=\"1\" class=\"dataframe\">\n",
       "  <thead>\n",
       "    <tr style=\"text-align: right;\">\n",
       "      <th></th>\n",
       "      <th>date</th>\n",
       "    </tr>\n",
       "  </thead>\n",
       "  <tbody>\n",
       "    <tr>\n",
       "      <th>0</th>\n",
       "      <td>date</td>\n",
       "    </tr>\n",
       "    <tr>\n",
       "      <th>1</th>\n",
       "      <td>1/1/2015</td>\n",
       "    </tr>\n",
       "    <tr>\n",
       "      <th>2</th>\n",
       "      <td>1/2/2015</td>\n",
       "    </tr>\n",
       "    <tr>\n",
       "      <th>3</th>\n",
       "      <td>1/3/2015</td>\n",
       "    </tr>\n",
       "    <tr>\n",
       "      <th>4</th>\n",
       "      <td>1/4/2015</td>\n",
       "    </tr>\n",
       "  </tbody>\n",
       "</table>\n",
       "</div>"
      ],
      "text/plain": [
       "       date\n",
       "0      date\n",
       "1  1/1/2015\n",
       "2  1/2/2015\n",
       "3  1/3/2015\n",
       "4  1/4/2015"
      ]
     },
     "execution_count": 45,
     "metadata": {},
     "output_type": "execute_result"
    }
   ],
   "source": [
    "query_string = \"\"\"\n",
    "SELECT\n",
    "date\n",
    "FROM `project1-327507.Game1.Table3`\n",
    "\n",
    "\n",
    "\"\"\"\n",
    "\n",
    "\n",
    "df_1 = (\n",
    "    bqclient.query(query_string)\n",
    "    .result()\n",
    "    .to_dataframe(\n",
    "        # Optionally, explicitly request to use the BigQuery Storage API. As of\n",
    "        # google-cloud-bigquery version 1.26.0 and above, the BigQuery Storage\n",
    "        # API is used by default.\n",
    "        create_bqstorage_client=True,\n",
    "    )\n",
    ")\n",
    "df_1.head()"
   ]
  },
  {
   "cell_type": "code",
   "execution_count": 47,
   "id": "ddc8309f",
   "metadata": {},
   "outputs": [],
   "source": [
    "Parameters= {\"vxp_client_id\": 1 , \n",
    "             \"metric\":\"DAU\",\n",
    "            \"game\":'All',\n",
    "            \"platform\" : 'All'}"
   ]
  },
  {
   "cell_type": "code",
   "execution_count": 48,
   "id": "b8456a99",
   "metadata": {},
   "outputs": [],
   "source": [
    "def add_params_to_pandas(df,Parameters):\n",
    "    for key,value in Parameters.items():\n",
    "        df[key] =value\n",
    "    return df"
   ]
  },
  {
   "cell_type": "code",
   "execution_count": 49,
   "id": "b5f6bd67",
   "metadata": {},
   "outputs": [
    {
     "data": {
      "text/html": [
       "<div>\n",
       "<style scoped>\n",
       "    .dataframe tbody tr th:only-of-type {\n",
       "        vertical-align: middle;\n",
       "    }\n",
       "\n",
       "    .dataframe tbody tr th {\n",
       "        vertical-align: top;\n",
       "    }\n",
       "\n",
       "    .dataframe thead th {\n",
       "        text-align: right;\n",
       "    }\n",
       "</style>\n",
       "<table border=\"1\" class=\"dataframe\">\n",
       "  <thead>\n",
       "    <tr style=\"text-align: right;\">\n",
       "      <th></th>\n",
       "      <th>date</th>\n",
       "      <th>vxp_client_id</th>\n",
       "      <th>metric</th>\n",
       "      <th>game</th>\n",
       "      <th>platform</th>\n",
       "    </tr>\n",
       "  </thead>\n",
       "  <tbody>\n",
       "    <tr>\n",
       "      <th>0</th>\n",
       "      <td>date</td>\n",
       "      <td>1</td>\n",
       "      <td>DAU</td>\n",
       "      <td>All</td>\n",
       "      <td>All</td>\n",
       "    </tr>\n",
       "    <tr>\n",
       "      <th>1</th>\n",
       "      <td>1/1/2015</td>\n",
       "      <td>1</td>\n",
       "      <td>DAU</td>\n",
       "      <td>All</td>\n",
       "      <td>All</td>\n",
       "    </tr>\n",
       "    <tr>\n",
       "      <th>2</th>\n",
       "      <td>1/2/2015</td>\n",
       "      <td>1</td>\n",
       "      <td>DAU</td>\n",
       "      <td>All</td>\n",
       "      <td>All</td>\n",
       "    </tr>\n",
       "    <tr>\n",
       "      <th>3</th>\n",
       "      <td>1/3/2015</td>\n",
       "      <td>1</td>\n",
       "      <td>DAU</td>\n",
       "      <td>All</td>\n",
       "      <td>All</td>\n",
       "    </tr>\n",
       "    <tr>\n",
       "      <th>4</th>\n",
       "      <td>1/4/2015</td>\n",
       "      <td>1</td>\n",
       "      <td>DAU</td>\n",
       "      <td>All</td>\n",
       "      <td>All</td>\n",
       "    </tr>\n",
       "    <tr>\n",
       "      <th>5</th>\n",
       "      <td>1/5/2015</td>\n",
       "      <td>1</td>\n",
       "      <td>DAU</td>\n",
       "      <td>All</td>\n",
       "      <td>All</td>\n",
       "    </tr>\n",
       "    <tr>\n",
       "      <th>6</th>\n",
       "      <td>1/6/2015</td>\n",
       "      <td>1</td>\n",
       "      <td>DAU</td>\n",
       "      <td>All</td>\n",
       "      <td>All</td>\n",
       "    </tr>\n",
       "    <tr>\n",
       "      <th>7</th>\n",
       "      <td>1/7/2015</td>\n",
       "      <td>1</td>\n",
       "      <td>DAU</td>\n",
       "      <td>All</td>\n",
       "      <td>All</td>\n",
       "    </tr>\n",
       "    <tr>\n",
       "      <th>8</th>\n",
       "      <td>1/8/2015</td>\n",
       "      <td>1</td>\n",
       "      <td>DAU</td>\n",
       "      <td>All</td>\n",
       "      <td>All</td>\n",
       "    </tr>\n",
       "    <tr>\n",
       "      <th>9</th>\n",
       "      <td>1/9/2015</td>\n",
       "      <td>1</td>\n",
       "      <td>DAU</td>\n",
       "      <td>All</td>\n",
       "      <td>All</td>\n",
       "    </tr>\n",
       "    <tr>\n",
       "      <th>10</th>\n",
       "      <td>1/10/2015</td>\n",
       "      <td>1</td>\n",
       "      <td>DAU</td>\n",
       "      <td>All</td>\n",
       "      <td>All</td>\n",
       "    </tr>\n",
       "    <tr>\n",
       "      <th>11</th>\n",
       "      <td>1/11/2015</td>\n",
       "      <td>1</td>\n",
       "      <td>DAU</td>\n",
       "      <td>All</td>\n",
       "      <td>All</td>\n",
       "    </tr>\n",
       "    <tr>\n",
       "      <th>12</th>\n",
       "      <td>1/12/2015</td>\n",
       "      <td>1</td>\n",
       "      <td>DAU</td>\n",
       "      <td>All</td>\n",
       "      <td>All</td>\n",
       "    </tr>\n",
       "    <tr>\n",
       "      <th>13</th>\n",
       "      <td>1/13/2015</td>\n",
       "      <td>1</td>\n",
       "      <td>DAU</td>\n",
       "      <td>All</td>\n",
       "      <td>All</td>\n",
       "    </tr>\n",
       "    <tr>\n",
       "      <th>14</th>\n",
       "      <td>1/14/2015</td>\n",
       "      <td>1</td>\n",
       "      <td>DAU</td>\n",
       "      <td>All</td>\n",
       "      <td>All</td>\n",
       "    </tr>\n",
       "    <tr>\n",
       "      <th>15</th>\n",
       "      <td>1/15/2015</td>\n",
       "      <td>1</td>\n",
       "      <td>DAU</td>\n",
       "      <td>All</td>\n",
       "      <td>All</td>\n",
       "    </tr>\n",
       "    <tr>\n",
       "      <th>16</th>\n",
       "      <td>1/16/2015</td>\n",
       "      <td>1</td>\n",
       "      <td>DAU</td>\n",
       "      <td>All</td>\n",
       "      <td>All</td>\n",
       "    </tr>\n",
       "    <tr>\n",
       "      <th>17</th>\n",
       "      <td>1/17/2015</td>\n",
       "      <td>1</td>\n",
       "      <td>DAU</td>\n",
       "      <td>All</td>\n",
       "      <td>All</td>\n",
       "    </tr>\n",
       "    <tr>\n",
       "      <th>18</th>\n",
       "      <td>1/18/2015</td>\n",
       "      <td>1</td>\n",
       "      <td>DAU</td>\n",
       "      <td>All</td>\n",
       "      <td>All</td>\n",
       "    </tr>\n",
       "    <tr>\n",
       "      <th>19</th>\n",
       "      <td>1/19/2015</td>\n",
       "      <td>1</td>\n",
       "      <td>DAU</td>\n",
       "      <td>All</td>\n",
       "      <td>All</td>\n",
       "    </tr>\n",
       "    <tr>\n",
       "      <th>20</th>\n",
       "      <td>1/20/2015</td>\n",
       "      <td>1</td>\n",
       "      <td>DAU</td>\n",
       "      <td>All</td>\n",
       "      <td>All</td>\n",
       "    </tr>\n",
       "    <tr>\n",
       "      <th>21</th>\n",
       "      <td>1/21/2015</td>\n",
       "      <td>1</td>\n",
       "      <td>DAU</td>\n",
       "      <td>All</td>\n",
       "      <td>All</td>\n",
       "    </tr>\n",
       "  </tbody>\n",
       "</table>\n",
       "</div>"
      ],
      "text/plain": [
       "         date  vxp_client_id metric game platform\n",
       "0        date              1    DAU  All      All\n",
       "1    1/1/2015              1    DAU  All      All\n",
       "2    1/2/2015              1    DAU  All      All\n",
       "3    1/3/2015              1    DAU  All      All\n",
       "4    1/4/2015              1    DAU  All      All\n",
       "5    1/5/2015              1    DAU  All      All\n",
       "6    1/6/2015              1    DAU  All      All\n",
       "7    1/7/2015              1    DAU  All      All\n",
       "8    1/8/2015              1    DAU  All      All\n",
       "9    1/9/2015              1    DAU  All      All\n",
       "10  1/10/2015              1    DAU  All      All\n",
       "11  1/11/2015              1    DAU  All      All\n",
       "12  1/12/2015              1    DAU  All      All\n",
       "13  1/13/2015              1    DAU  All      All\n",
       "14  1/14/2015              1    DAU  All      All\n",
       "15  1/15/2015              1    DAU  All      All\n",
       "16  1/16/2015              1    DAU  All      All\n",
       "17  1/17/2015              1    DAU  All      All\n",
       "18  1/18/2015              1    DAU  All      All\n",
       "19  1/19/2015              1    DAU  All      All\n",
       "20  1/20/2015              1    DAU  All      All\n",
       "21  1/21/2015              1    DAU  All      All"
      ]
     },
     "execution_count": 49,
     "metadata": {},
     "output_type": "execute_result"
    }
   ],
   "source": [
    "add_params_to_pandas(df_1,Parameters)"
   ]
  },
  {
   "cell_type": "code",
   "execution_count": 46,
   "id": "de5e4369",
   "metadata": {},
   "outputs": [
    {
     "ename": "TypeError",
     "evalue": "insert() missing 1 required positional argument: 'value'",
     "output_type": "error",
     "traceback": [
      "\u001b[1;31m---------------------------------------------------------------------------\u001b[0m",
      "\u001b[1;31mTypeError\u001b[0m                                 Traceback (most recent call last)",
      "\u001b[1;32mC:\\Users\\AMRMED~1\\AppData\\Local\\Temp/ipykernel_15856/99862444.py\u001b[0m in \u001b[0;36m<module>\u001b[1;34m\u001b[0m\n\u001b[1;32m----> 1\u001b[1;33m \u001b[0mdf_1\u001b[0m\u001b[1;33m.\u001b[0m\u001b[0minsert\u001b[0m\u001b[1;33m(\u001b[0m\u001b[1;34m\"vxp_client_id\"\u001b[0m\u001b[1;33m,\u001b[0m\u001b[1;36m1\u001b[0m\u001b[1;33m)\u001b[0m\u001b[1;33m\u001b[0m\u001b[1;33m\u001b[0m\u001b[0m\n\u001b[0m",
      "\u001b[1;31mTypeError\u001b[0m: insert() missing 1 required positional argument: 'value'"
     ]
    }
   ],
   "source": [
    "df_1.insert(\"vxp_client_id\",1)"
   ]
  },
  {
   "cell_type": "code",
   "execution_count": null,
   "id": "f598a079",
   "metadata": {},
   "outputs": [],
   "source": []
  },
  {
   "cell_type": "markdown",
   "id": "f58bb4a2",
   "metadata": {},
   "source": [
    "#### Write df to bigquery"
   ]
  },
  {
   "cell_type": "code",
   "execution_count": null,
   "id": "fea7f2df",
   "metadata": {},
   "outputs": [],
   "source": [
    "!pip install pandas-gbq==0.14.0"
   ]
  },
  {
   "cell_type": "code",
   "execution_count": 1,
   "id": "33efd6ba",
   "metadata": {},
   "outputs": [],
   "source": [
    "from datalab.context import Context\n",
    "import datalab.storage as storage\n",
    "import datalab.bigquery as bq\n",
    "import pandas as pd\n",
    "from pandas import DataFrame\n",
    "import time"
   ]
  },
  {
   "cell_type": "code",
   "execution_count": 2,
   "id": "f9467611",
   "metadata": {},
   "outputs": [],
   "source": [
    "import pandas_gbq"
   ]
  },
  {
   "cell_type": "code",
   "execution_count": 30,
   "id": "7ffa1673",
   "metadata": {},
   "outputs": [
    {
     "name": "stdout",
     "output_type": "stream",
     "text": [
      "Requirement already satisfied: pyarrow in c:\\anaconda3\\envs\\prophet\\lib\\site-packages (4.0.1)"
     ]
    },
    {
     "name": "stderr",
     "output_type": "stream",
     "text": [
      "WARNING: Ignoring invalid distribution -umpy (c:\\anaconda3\\envs\\prophet\\lib\\site-packages)\n",
      "WARNING: Ignoring invalid distribution -rotobuf (c:\\anaconda3\\envs\\prophet\\lib\\site-packages)\n",
      "WARNING: Ignoring invalid distribution -umpy (c:\\anaconda3\\envs\\prophet\\lib\\site-packages)\n",
      "WARNING: Ignoring invalid distribution -rotobuf (c:\\anaconda3\\envs\\prophet\\lib\\site-packages)\n",
      "WARNING: Ignoring invalid distribution -umpy (c:\\anaconda3\\envs\\prophet\\lib\\site-packages)\n",
      "WARNING: Ignoring invalid distribution -rotobuf (c:\\anaconda3\\envs\\prophet\\lib\\site-packages)\n",
      "WARNING: Ignoring invalid distribution -umpy (c:\\anaconda3\\envs\\prophet\\lib\\site-packages)\n",
      "WARNING: Ignoring invalid distribution -rotobuf (c:\\anaconda3\\envs\\prophet\\lib\\site-packages)\n",
      "WARNING: Ignoring invalid distribution -umpy (c:\\anaconda3\\envs\\prophet\\lib\\site-packages)\n",
      "WARNING: Ignoring invalid distribution -rotobuf (c:\\anaconda3\\envs\\prophet\\lib\\site-packages)\n"
     ]
    },
    {
     "name": "stdout",
     "output_type": "stream",
     "text": [
      "\n",
      "Requirement already satisfied: numpy>=1.16.6 in c:\\anaconda3\\envs\\prophet\\lib\\site-packages (from pyarrow) (1.20.3)\n"
     ]
    }
   ],
   "source": [
    "!pip install pyarrow"
   ]
  },
  {
   "cell_type": "code",
   "execution_count": 3,
   "id": "c368388c",
   "metadata": {},
   "outputs": [],
   "source": [
    "my_data = [{1,2,3}]\n",
    "for i in range(0,100000):\n",
    "    my_data.append({1,2,3})\n",
    "not_so_simple_dataframe = pd.DataFrame(data=my_data,columns=['a','b','c'])"
   ]
  },
  {
   "cell_type": "code",
   "execution_count": 28,
   "id": "274773f0",
   "metadata": {},
   "outputs": [
    {
     "name": "stderr",
     "output_type": "stream",
     "text": [
      "1it [00:09,  9.98s/it]\n"
     ]
    }
   ],
   "source": [
    "pandas_gbq.to_gbq(dataframe=not_so_simple_dataframe,\n",
    "                  destination_table=\"forecasts.samplewrite2\" ,\n",
    "                  project_id=project_id,\n",
    "                  if_exists='append')\n"
   ]
  },
  {
   "cell_type": "code",
   "execution_count": null,
   "id": "5c44ddc3",
   "metadata": {},
   "outputs": [],
   "source": []
  },
  {
   "cell_type": "code",
   "execution_count": null,
   "id": "432c95aa",
   "metadata": {},
   "outputs": [],
   "source": []
  },
  {
   "cell_type": "code",
   "execution_count": 23,
   "id": "065f88d6",
   "metadata": {},
   "outputs": [
    {
     "name": "stderr",
     "output_type": "stream",
     "text": [
      "'storage' is not recognized as an internal or external command,\n",
      "operable program or batch file.\n"
     ]
    },
    {
     "ename": "NameError",
     "evalue": "name 'table' is not defined",
     "output_type": "error",
     "traceback": [
      "\u001b[1;31m---------------------------------------------------------------------------\u001b[0m",
      "\u001b[1;31mNameError\u001b[0m                                 Traceback (most recent call last)",
      "\u001b[1;32mC:\\Users\\AMRMED~1\\AppData\\Local\\Temp/ipykernel_11936/1028147952.py\u001b[0m in \u001b[0;36m<module>\u001b[1;34m\u001b[0m\n\u001b[0;32m     17\u001b[0m \u001b[1;33m\u001b[0m\u001b[0m\n\u001b[0;32m     18\u001b[0m \u001b[1;31m# Write the DataFrame to a BigQuery table\u001b[0m\u001b[1;33m\u001b[0m\u001b[1;33m\u001b[0m\u001b[1;33m\u001b[0m\u001b[0m\n\u001b[1;32m---> 19\u001b[1;33m \u001b[0mtable\u001b[0m\u001b[1;33m.\u001b[0m\u001b[0minsert_data\u001b[0m\u001b[1;33m(\u001b[0m\u001b[0mnot_so_simple_dataframe\u001b[0m\u001b[1;33m)\u001b[0m\u001b[1;33m\u001b[0m\u001b[1;33m\u001b[0m\u001b[0m\n\u001b[0m\u001b[0;32m     20\u001b[0m \u001b[0mend\u001b[0m \u001b[1;33m=\u001b[0m \u001b[0mtime\u001b[0m\u001b[1;33m.\u001b[0m\u001b[0mtime\u001b[0m\u001b[1;33m(\u001b[0m\u001b[1;33m)\u001b[0m\u001b[1;33m\u001b[0m\u001b[1;33m\u001b[0m\u001b[0m\n\u001b[0;32m     21\u001b[0m \u001b[0mprint\u001b[0m\u001b[1;33m(\u001b[0m\u001b[1;34m\"time alternative 3 \"\u001b[0m \u001b[1;33m+\u001b[0m \u001b[0mstr\u001b[0m\u001b[1;33m(\u001b[0m\u001b[0mend\u001b[0m \u001b[1;33m-\u001b[0m \u001b[0mstart\u001b[0m\u001b[1;33m)\u001b[0m\u001b[1;33m)\u001b[0m\u001b[1;33m\u001b[0m\u001b[1;33m\u001b[0m\u001b[0m\n",
      "\u001b[1;31mNameError\u001b[0m: name 'table' is not defined"
     ]
    }
   ],
   "source": [
    "#Alternative 3\n",
    "start = time.time()\n",
    "sample_bucket_name = 'mybucket-amr'\n",
    "sample_bucket_path = 'gs://' + sample_bucket_name\n",
    "sample_bucket_object = sample_bucket_path + '/Hello.txt'\n",
    "bigquery_dataset_name = 'forecasts'\n",
    "bigquery_table_name = 'TestTable'\n",
    "\n",
    "# Define storage bucket\n",
    "sample_bucket = storage.Bucket(sample_bucket_name)\n",
    "\n",
    "# Create or overwrite the existing table if it exists\n",
    "table_schema = bq.Schema.from_dataframe(not_so_simple_dataframe)\n",
    "\n",
    "# Write the DataFrame to GCS (Google Cloud Storage)\n",
    "!storage write --variable not_so_simple_dataframe --object $sample_bucket_object\n",
    "\n",
    "# Write the DataFrame to a BigQuery table\n",
    "table.insert_data(not_so_simple_dataframe)\n",
    "end = time.time()\n",
    "print(\"time alternative 3 \" + str(end - start))"
   ]
  },
  {
   "cell_type": "code",
   "execution_count": null,
   "id": "05620041",
   "metadata": {},
   "outputs": [],
   "source": []
  }
 ],
 "metadata": {
  "kernelspec": {
   "display_name": "Python 3 (ipykernel)",
   "language": "python",
   "name": "python3"
  },
  "language_info": {
   "codemirror_mode": {
    "name": "ipython",
    "version": 3
   },
   "file_extension": ".py",
   "mimetype": "text/x-python",
   "name": "python",
   "nbconvert_exporter": "python",
   "pygments_lexer": "ipython3",
   "version": "3.8.12"
  }
 },
 "nbformat": 4,
 "nbformat_minor": 5
}
