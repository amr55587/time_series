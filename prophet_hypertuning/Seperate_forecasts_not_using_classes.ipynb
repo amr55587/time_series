{
 "cells": [
  {
   "cell_type": "code",
   "execution_count": 18,
   "id": "14c51908",
   "metadata": {},
   "outputs": [],
   "source": [
    "import csv\n",
    "import pandas as pd\n",
    "from datetime import date,datetime\n",
    "import io\n",
    "import os\n",
    "import matplotlib.pyplot as plt\n",
    "import seaborn as sns\n",
    "import import_ipynb\n",
    "\n",
    "from prophet import Prophet\n",
    "from prophet.serialize import model_to_json, model_from_json\n",
    "from prophet.diagnostics import cross_validation\n",
    "\n",
    "plt.style.use(\"fivethirtyeight\")"
   ]
  },
  {
   "cell_type": "code",
   "execution_count": 6,
   "id": "6c4dfd18",
   "metadata": {},
   "outputs": [],
   "source": [
    "%%capture\n",
    "from prepare_data_and_run_Forecasts import metric_param_filtered_df\n"
   ]
  },
  {
   "cell_type": "code",
   "execution_count": 8,
   "id": "4260662c",
   "metadata": {},
   "outputs": [
    {
     "data": {
      "text/html": [
       "<div>\n",
       "<style scoped>\n",
       "    .dataframe tbody tr th:only-of-type {\n",
       "        vertical-align: middle;\n",
       "    }\n",
       "\n",
       "    .dataframe tbody tr th {\n",
       "        vertical-align: top;\n",
       "    }\n",
       "\n",
       "    .dataframe thead th {\n",
       "        text-align: right;\n",
       "    }\n",
       "</style>\n",
       "<table border=\"1\" class=\"dataframe\">\n",
       "  <thead>\n",
       "    <tr style=\"text-align: right;\">\n",
       "      <th></th>\n",
       "      <th>dau</th>\n",
       "    </tr>\n",
       "    <tr>\n",
       "      <th>date</th>\n",
       "      <th></th>\n",
       "    </tr>\n",
       "  </thead>\n",
       "  <tbody>\n",
       "    <tr>\n",
       "      <th>2021-09-01</th>\n",
       "      <td>63038</td>\n",
       "    </tr>\n",
       "    <tr>\n",
       "      <th>2021-09-02</th>\n",
       "      <td>63416</td>\n",
       "    </tr>\n",
       "    <tr>\n",
       "      <th>2021-09-03</th>\n",
       "      <td>62744</td>\n",
       "    </tr>\n",
       "    <tr>\n",
       "      <th>2021-09-04</th>\n",
       "      <td>62915</td>\n",
       "    </tr>\n",
       "    <tr>\n",
       "      <th>2021-09-05</th>\n",
       "      <td>64862</td>\n",
       "    </tr>\n",
       "  </tbody>\n",
       "</table>\n",
       "</div>"
      ],
      "text/plain": [
       "              dau\n",
       "date             \n",
       "2021-09-01  63038\n",
       "2021-09-02  63416\n",
       "2021-09-03  62744\n",
       "2021-09-04  62915\n",
       "2021-09-05  64862"
      ]
     },
     "execution_count": 8,
     "metadata": {},
     "output_type": "execute_result"
    }
   ],
   "source": [
    "metric_param_filtered_df.head()"
   ]
  },
  {
   "cell_type": "code",
   "execution_count": 21,
   "id": "a62158af",
   "metadata": {},
   "outputs": [
    {
     "name": "stdout",
     "output_type": "stream",
     "text": [
      "2021-09-01 2022-01-28\n",
      "150\n"
     ]
    }
   ],
   "source": [
    "print(metric_param_filtered_df.index[0],metric_param_filtered_df.index[-1])\n",
    "print(len(metric_param_filtered_df))"
   ]
  },
  {
   "cell_type": "code",
   "execution_count": 16,
   "id": "adc76234",
   "metadata": {},
   "outputs": [],
   "source": [
    "# metric=\"dau\"\n",
    "measure=\"dau\"\n",
    "series=metric_param_filtered_df.reset_index()[['date',measure]].rename(columns={'date':'ds',measure:'y'})"
   ]
  },
  {
   "cell_type": "code",
   "execution_count": 19,
   "id": "f5bf7c82",
   "metadata": {},
   "outputs": [
    {
     "data": {
      "application/vnd.jupyter.widget-view+json": {
       "model_id": "e728ea7437224bc8b958c59bb734eb94",
       "version_major": 2,
       "version_minor": 0
      },
      "text/plain": [
       "  0%|          | 0/22 [00:00<?, ?it/s]"
      ]
     },
     "metadata": {},
     "output_type": "display_data"
    },
    {
     "data": {
      "text/html": [
       "<div>\n",
       "<style scoped>\n",
       "    .dataframe tbody tr th:only-of-type {\n",
       "        vertical-align: middle;\n",
       "    }\n",
       "\n",
       "    .dataframe tbody tr th {\n",
       "        vertical-align: top;\n",
       "    }\n",
       "\n",
       "    .dataframe thead th {\n",
       "        text-align: right;\n",
       "    }\n",
       "</style>\n",
       "<table border=\"1\" class=\"dataframe\">\n",
       "  <thead>\n",
       "    <tr style=\"text-align: right;\">\n",
       "      <th></th>\n",
       "      <th>ds</th>\n",
       "      <th>yhat</th>\n",
       "      <th>yhat_lower</th>\n",
       "      <th>yhat_upper</th>\n",
       "      <th>y</th>\n",
       "      <th>cutoff</th>\n",
       "    </tr>\n",
       "  </thead>\n",
       "  <tbody>\n",
       "    <tr>\n",
       "      <th>0</th>\n",
       "      <td>2021-10-06</td>\n",
       "      <td>73678.971974</td>\n",
       "      <td>72779.816080</td>\n",
       "      <td>74559.796322</td>\n",
       "      <td>73544</td>\n",
       "      <td>2021-10-05</td>\n",
       "    </tr>\n",
       "    <tr>\n",
       "      <th>1</th>\n",
       "      <td>2021-10-07</td>\n",
       "      <td>73914.193346</td>\n",
       "      <td>72995.365044</td>\n",
       "      <td>74831.423760</td>\n",
       "      <td>75383</td>\n",
       "      <td>2021-10-05</td>\n",
       "    </tr>\n",
       "    <tr>\n",
       "      <th>2</th>\n",
       "      <td>2021-10-08</td>\n",
       "      <td>74192.459730</td>\n",
       "      <td>73299.703373</td>\n",
       "      <td>75143.819367</td>\n",
       "      <td>78795</td>\n",
       "      <td>2021-10-05</td>\n",
       "    </tr>\n",
       "    <tr>\n",
       "      <th>3</th>\n",
       "      <td>2021-10-09</td>\n",
       "      <td>74511.906185</td>\n",
       "      <td>73571.679915</td>\n",
       "      <td>75502.882035</td>\n",
       "      <td>78997</td>\n",
       "      <td>2021-10-05</td>\n",
       "    </tr>\n",
       "    <tr>\n",
       "      <th>4</th>\n",
       "      <td>2021-10-10</td>\n",
       "      <td>76066.311359</td>\n",
       "      <td>75025.170385</td>\n",
       "      <td>77063.422253</td>\n",
       "      <td>80132</td>\n",
       "      <td>2021-10-05</td>\n",
       "    </tr>\n",
       "  </tbody>\n",
       "</table>\n",
       "</div>"
      ],
      "text/plain": [
       "          ds          yhat    yhat_lower    yhat_upper      y     cutoff\n",
       "0 2021-10-06  73678.971974  72779.816080  74559.796322  73544 2021-10-05\n",
       "1 2021-10-07  73914.193346  72995.365044  74831.423760  75383 2021-10-05\n",
       "2 2021-10-08  74192.459730  73299.703373  75143.819367  78795 2021-10-05\n",
       "3 2021-10-09  74511.906185  73571.679915  75502.882035  78997 2021-10-05\n",
       "4 2021-10-10  76066.311359  75025.170385  77063.422253  80132 2021-10-05"
      ]
     },
     "execution_count": 19,
     "metadata": {},
     "output_type": "execute_result"
    }
   ],
   "source": [
    "m1=Prophet()\n",
    "m1.fit(series)\n",
    "# df_cv = cross_validation(m1, horizon = f\"{len(test)} days\")\n",
    "\n",
    "df_cv = cross_validation(m1, horizon = \"10 days\")\n",
    "df_cv.head()"
   ]
  },
  {
   "cell_type": "code",
   "execution_count": 20,
   "id": "5edb3f8a",
   "metadata": {},
   "outputs": [
    {
     "data": {
      "text/plain": [
       "220"
      ]
     },
     "execution_count": 20,
     "metadata": {},
     "output_type": "execute_result"
    }
   ],
   "source": [
    "len(df_cv)"
   ]
  },
  {
   "cell_type": "code",
   "execution_count": null,
   "id": "53a20321",
   "metadata": {},
   "outputs": [],
   "source": []
  }
 ],
 "metadata": {
  "kernelspec": {
   "display_name": "Python 3 (ipykernel)",
   "language": "python",
   "name": "python3"
  },
  "language_info": {
   "codemirror_mode": {
    "name": "ipython",
    "version": 3
   },
   "file_extension": ".py",
   "mimetype": "text/x-python",
   "name": "python",
   "nbconvert_exporter": "python",
   "pygments_lexer": "ipython3",
   "version": "3.9.7"
  }
 },
 "nbformat": 4,
 "nbformat_minor": 5
}
